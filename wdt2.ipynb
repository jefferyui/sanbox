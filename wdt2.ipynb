{
 "cells": [
  {
   "cell_type": "code",
   "execution_count": 1,
   "id": "ee44e779",
   "metadata": {},
   "outputs": [],
   "source": [
    "# matplotlib 用于绘图\n",
    "import matplotlib as mpl\n",
    "import matplotlib.pyplot as plt\n",
    "%matplotlib inline\n",
    "# 处理数据的库\n",
    "import numpy as np\n",
    "import sklearn\n",
    "import pandas as pd\n",
    "# 系统库\n",
    "import os\n",
    "import sys\n",
    "import time\n",
    "# TensorFlow的库\n",
    "import tensorflow as tf\n",
    "from tensorflow import keras"
   ]
  },
  {
   "cell_type": "code",
   "execution_count": null,
   "id": "219dabe6",
   "metadata": {},
   "outputs": [],
   "source": [
    "# wide deep tensorflow2"
   ]
  },
  {
   "cell_type": "code",
   "execution_count": 2,
   "id": "dd544797",
   "metadata": {},
   "outputs": [],
   "source": [
    "from sklearn.datasets import fetch_california_housing\n",
    "housing = fetch_california_housing()"
   ]
  },
  {
   "cell_type": "code",
   "execution_count": 79,
   "id": "a1d31005",
   "metadata": {},
   "outputs": [],
   "source": [
    "from sklearn.model_selection import train_test_split\n",
    "# test_size 指的是划分的训练集和测试集的比例\n",
    "# test_size 默认值为0.25 表示数据分四份，测试集占一份\n",
    "x_train_all, x_test, y_train_all, y_test = train_test_split(housing.data, housing.target, random_state = 7, test_size = 0.25)\n",
    "x_train, x_valid, y_train, y_valid = train_test_split(x_train_all, y_train_all, random_state = 11, test_size = 0.25)"
   ]
  },
  {
   "cell_type": "code",
   "execution_count": 80,
   "id": "832c8de3",
   "metadata": {},
   "outputs": [],
   "source": [
    "# 数据归一化\n",
    "from sklearn.preprocessing import StandardScaler\n",
    "scaler = StandardScaler()\n",
    "# 训练集数据使用的是 fit_transform，和验证集与测试集中使用的 transform 是不一样的\n",
    "# fit_transform 可以计算数据的均值和方差并记录下来\n",
    "# 验证集和测试集用到的均值和方差都是训练集数据的，所以二者的归一化使用 transform 即可\n",
    "# 归一化只针对输入数据， 标签不变\n",
    "x_train_scaled = scaler.fit_transform(x_train)\n",
    "x_valid_scaled = scaler.transform(x_valid)\n",
    "x_test_scaled = scaler.transform(x_test)"
   ]
  },
  {
   "cell_type": "code",
   "execution_count": 81,
   "id": "dc9e4986",
   "metadata": {},
   "outputs": [
    {
     "data": {
      "text/plain": [
       "(11610, 8)"
      ]
     },
     "execution_count": 81,
     "metadata": {},
     "output_type": "execute_result"
    }
   ],
   "source": [
    "x_train_scaled.shape"
   ]
  },
  {
   "cell_type": "code",
   "execution_count": 82,
   "id": "dee7a879",
   "metadata": {},
   "outputs": [
    {
     "data": {
      "text/plain": [
       "(11610,)"
      ]
     },
     "execution_count": 82,
     "metadata": {},
     "output_type": "execute_result"
    }
   ],
   "source": [
    "y_train.shape\n"
   ]
  },
  {
   "cell_type": "code",
   "execution_count": 28,
   "id": "770fc4d0",
   "metadata": {},
   "outputs": [
    {
     "data": {
      "text/plain": [
       "(15480, 8)"
      ]
     },
     "execution_count": 28,
     "metadata": {},
     "output_type": "execute_result"
    }
   ],
   "source": [
    "x_train_all.shape"
   ]
  },
  {
   "cell_type": "code",
   "execution_count": 26,
   "id": "19380972",
   "metadata": {},
   "outputs": [
    {
     "data": {
      "text/plain": [
       "(8,)"
      ]
     },
     "execution_count": 26,
     "metadata": {},
     "output_type": "execute_result"
    }
   ],
   "source": [
    "x_train.shape[1:]"
   ]
  },
  {
   "cell_type": "code",
   "execution_count": 5,
   "id": "ee8b4529",
   "metadata": {},
   "outputs": [],
   "source": [
    "# 函数式API实现Wide & Deep model\n",
    "input = keras.layers.Input(shape=x_train.shape[1:])\n",
    "# \"\"\"\n",
    "# 函数式API就是我们可以将模型中的层结构当做函数来用\n",
    "# 如下所示就是函数式API，将input当做参数传给了hidden1\n",
    "# hidden1又当做参数传递给了hidden2\n",
    "# \"\"\"\n",
    "hidden1 = keras.layers.Dense(30, activation='relu')(input)\n",
    "hidden2 = keras.layers.Dense(30, activation='relu')(hidden1)\n",
    "# \"\"\"\n",
    "# input是wide模型的输入\n",
    "# hidden2是deep模型的输出\n",
    "# concatenate将二者拼接，并将拼接之后的结果传递给output layer\n",
    "# \"\"\"\n",
    "concat = keras.layers.concatenate([input, hidden2])\n",
    "output = keras.layers.Dense(1)(concat)\n",
    "# \"\"\"\n",
    "# 固化model\n",
    "# \"\"\"\n",
    "model = keras.models.Model(inputs = [input],\n",
    "                          outputs = [output])"
   ]
  },
  {
   "cell_type": "code",
   "execution_count": 6,
   "id": "f7a1e11f",
   "metadata": {},
   "outputs": [
    {
     "name": "stdout",
     "output_type": "stream",
     "text": [
      "Model: \"model\"\n",
      "__________________________________________________________________________________________________\n",
      "Layer (type)                    Output Shape         Param #     Connected to                     \n",
      "==================================================================================================\n",
      "input_1 (InputLayer)            [(None, 8)]          0                                            \n",
      "__________________________________________________________________________________________________\n",
      "dense (Dense)                   (None, 30)           270         input_1[0][0]                    \n",
      "__________________________________________________________________________________________________\n",
      "dense_1 (Dense)                 (None, 30)           930         dense[0][0]                      \n",
      "__________________________________________________________________________________________________\n",
      "concatenate (Concatenate)       (None, 38)           0           input_1[0][0]                    \n",
      "                                                                 dense_1[0][0]                    \n",
      "__________________________________________________________________________________________________\n",
      "dense_2 (Dense)                 (None, 1)            39          concatenate[0][0]                \n",
      "==================================================================================================\n",
      "Total params: 1,239\n",
      "Trainable params: 1,239\n",
      "Non-trainable params: 0\n",
      "__________________________________________________________________________________________________\n"
     ]
    }
   ],
   "source": [
    "model.summary()"
   ]
  },
  {
   "cell_type": "code",
   "execution_count": 9,
   "id": "b63cb099",
   "metadata": {},
   "outputs": [],
   "source": [
    "# from keras.utils import plot_model\n",
    "# plot_model(model, to_file='model.png')"
   ]
  },
  {
   "cell_type": "code",
   "execution_count": 11,
   "id": "b9101fc8",
   "metadata": {},
   "outputs": [
    {
     "name": "stdout",
     "output_type": "stream",
     "text": [
      "Model: \"wide_deep_model_1\"\n",
      "_________________________________________________________________\n",
      "Layer (type)                 Output Shape              Param #   \n",
      "=================================================================\n",
      "dense_6 (Dense)              multiple                  270       \n",
      "_________________________________________________________________\n",
      "dense_7 (Dense)              multiple                  930       \n",
      "_________________________________________________________________\n",
      "dense_8 (Dense)              multiple                  39        \n",
      "=================================================================\n",
      "Total params: 1,239\n",
      "Trainable params: 1,239\n",
      "Non-trainable params: 0\n",
      "_________________________________________________________________\n"
     ]
    }
   ],
   "source": [
    "# 子类API实现Wide & Deep model\n",
    "\"\"\"\n",
    "子类API就是集成父类来实现\n",
    "我们首先要定义一个Wide & Deep模型父类\n",
    "然后通过集成该父类进行模型的构建\n",
    "\"\"\"\n",
    "class WideDeepModel(keras.models.Model):\n",
    "    def __init__(self):\n",
    "        super(WideDeepModel, self).__init__()\n",
    "        \"\"\"\n",
    "        定义模型的层次\n",
    "        \"\"\"\n",
    "        self.hidden1_layer = keras.layers.Dense(30, activation = 'relu')\n",
    "        self.hidden2_layer = keras.layers.Dense(30, activation = 'relu')\n",
    "        self.output_layer = keras.layers.Dense(1)\n",
    "    \n",
    "    def call(self, input):\n",
    "        \"\"\"\n",
    "        完成模型的正向计算\n",
    "        \"\"\"\n",
    "        hidden1 = self.hidden1_layer(input)\n",
    "        hidden2 = self.hidden2_layer(hidden1)\n",
    "        concat = keras.layers.concatenate([input, hidden2])\n",
    "        output = self.output_layer(concat)\n",
    "        return output\n",
    "\n",
    "model = WideDeepModel()\n",
    "model.build(input_shape = (None, 8))\n",
    "model.summary()"
   ]
  },
  {
   "cell_type": "code",
   "execution_count": 12,
   "id": "5d7456fa",
   "metadata": {},
   "outputs": [],
   "source": [
    "# 编译模型， 损失函数为均方误差函数，优化函数为随机梯度下降\n",
    "model.compile(loss=\"mean_squared_error\", optimizer = keras.optimizers.SGD(0.001))\n",
    "# 回调函数使用了EarlyStopping，patience设为5， 阈值设置为1e-2\n",
    "callbacks = [keras.callbacks.EarlyStopping(patience=5, min_delta=1e-2)]"
   ]
  },
  {
   "cell_type": "code",
   "execution_count": 35,
   "id": "f697fb9a",
   "metadata": {},
   "outputs": [
    {
     "data": {
      "text/plain": [
       "(11610, 8)"
      ]
     },
     "execution_count": 35,
     "metadata": {},
     "output_type": "execute_result"
    }
   ],
   "source": [
    "x_train_scaled.shape"
   ]
  },
  {
   "cell_type": "code",
   "execution_count": 36,
   "id": "5b0444bc",
   "metadata": {},
   "outputs": [
    {
     "data": {
      "text/plain": [
       "(11610,)"
      ]
     },
     "execution_count": 36,
     "metadata": {},
     "output_type": "execute_result"
    }
   ],
   "source": [
    "y_train.shape"
   ]
  },
  {
   "cell_type": "code",
   "execution_count": 13,
   "id": "057337fe",
   "metadata": {},
   "outputs": [
    {
     "name": "stdout",
     "output_type": "stream",
     "text": [
      "Epoch 1/100\n",
      "363/363 [==============================] - 2s 5ms/step - loss: 1.7925 - val_loss: 0.7244\n",
      "Epoch 2/100\n",
      "363/363 [==============================] - 1s 2ms/step - loss: 0.6265 - val_loss: 0.6484\n",
      "Epoch 3/100\n",
      "363/363 [==============================] - 1s 2ms/step - loss: 0.5824 - val_loss: 0.6172\n",
      "Epoch 4/100\n",
      "363/363 [==============================] - 1s 2ms/step - loss: 0.5570 - val_loss: 0.5951\n",
      "Epoch 5/100\n",
      "363/363 [==============================] - 1s 3ms/step - loss: 0.5381 - val_loss: 0.5748\n",
      "Epoch 6/100\n",
      "363/363 [==============================] - 1s 3ms/step - loss: 0.5231 - val_loss: 0.5562\n",
      "Epoch 7/100\n",
      "363/363 [==============================] - 1s 2ms/step - loss: 0.5116 - val_loss: 0.5429\n",
      "Epoch 8/100\n",
      "363/363 [==============================] - 1s 2ms/step - loss: 0.5014 - val_loss: 0.5311\n",
      "Epoch 9/100\n",
      "363/363 [==============================] - 1s 2ms/step - loss: 0.4936 - val_loss: 0.5241\n",
      "Epoch 10/100\n",
      "363/363 [==============================] - 1s 4ms/step - loss: 0.4851 - val_loss: 0.5127\n",
      "Epoch 11/100\n",
      "363/363 [==============================] - 1s 3ms/step - loss: 0.4800 - val_loss: 0.5062\n",
      "Epoch 12/100\n",
      "363/363 [==============================] - 1s 2ms/step - loss: 0.4743 - val_loss: 0.5020\n",
      "Epoch 13/100\n",
      "363/363 [==============================] - 1s 2ms/step - loss: 0.4684 - val_loss: 0.4948\n",
      "Epoch 14/100\n",
      "363/363 [==============================] - 1s 2ms/step - loss: 0.4633 - val_loss: 0.4905\n",
      "Epoch 15/100\n",
      "363/363 [==============================] - 1s 2ms/step - loss: 0.4590 - val_loss: 0.4835\n",
      "Epoch 16/100\n",
      "363/363 [==============================] - 1s 2ms/step - loss: 0.4550 - val_loss: 0.4774\n",
      "Epoch 17/100\n",
      "363/363 [==============================] - 1s 2ms/step - loss: 0.4504 - val_loss: 0.4762\n",
      "Epoch 18/100\n",
      "363/363 [==============================] - 1s 3ms/step - loss: 0.4460 - val_loss: 0.4669\n",
      "Epoch 19/100\n",
      "363/363 [==============================] - 1s 3ms/step - loss: 0.4432 - val_loss: 0.4631\n",
      "Epoch 20/100\n",
      "363/363 [==============================] - 1s 3ms/step - loss: 0.4395 - val_loss: 0.4625\n",
      "Epoch 21/100\n",
      "363/363 [==============================] - 1s 3ms/step - loss: 0.4358 - val_loss: 0.4575\n",
      "Epoch 22/100\n",
      "363/363 [==============================] - 2s 4ms/step - loss: 0.4332 - val_loss: 0.4522\n",
      "Epoch 23/100\n",
      "363/363 [==============================] - 1s 3ms/step - loss: 0.4308 - val_loss: 0.4502\n",
      "Epoch 24/100\n",
      "363/363 [==============================] - 1s 4ms/step - loss: 0.4272 - val_loss: 0.4467\n",
      "Epoch 25/100\n",
      "363/363 [==============================] - 1s 2ms/step - loss: 0.4247 - val_loss: 0.4431\n",
      "Epoch 26/100\n",
      "363/363 [==============================] - 1s 4ms/step - loss: 0.4221 - val_loss: 0.4403\n",
      "Epoch 27/100\n",
      "363/363 [==============================] - 1s 2ms/step - loss: 0.4193 - val_loss: 0.4385\n",
      "Epoch 28/100\n",
      "363/363 [==============================] - 1s 2ms/step - loss: 0.4170 - val_loss: 0.4342\n",
      "Epoch 29/100\n",
      "363/363 [==============================] - 1s 4ms/step - loss: 0.4146 - val_loss: 0.4333TA: 0s - loss: 0.41 - ETA: 0s - loss: 0.41\n",
      "Epoch 30/100\n",
      "363/363 [==============================] - 1s 4ms/step - loss: 0.4125 - val_loss: 0.4301\n",
      "Epoch 31/100\n",
      "363/363 [==============================] - 1s 3ms/step - loss: 0.4099 - val_loss: 0.4279\n",
      "Epoch 32/100\n",
      "363/363 [==============================] - ETA: 0s - loss: 0.404 - 1s 3ms/step - loss: 0.4080 - val_loss: 0.4245\n",
      "Epoch 33/100\n",
      "363/363 [==============================] - 1s 3ms/step - loss: 0.4062 - val_loss: 0.4227\n",
      "Epoch 34/100\n",
      "363/363 [==============================] - 1s 3ms/step - loss: 0.4042 - val_loss: 0.4208\n",
      "Epoch 35/100\n",
      "363/363 [==============================] - 1s 3ms/step - loss: 0.4020 - val_loss: 0.4181\n",
      "Epoch 36/100\n",
      "363/363 [==============================] - 2s 5ms/step - loss: 0.4002 - val_loss: 0.4169\n",
      "Epoch 37/100\n",
      "363/363 [==============================] - 1s 2ms/step - loss: 0.3985 - val_loss: 0.4144\n",
      "Epoch 38/100\n",
      "363/363 [==============================] - 1s 2ms/step - loss: 0.3966 - val_loss: 0.4127\n",
      "Epoch 39/100\n",
      "363/363 [==============================] - 1s 3ms/step - loss: 0.3947 - val_loss: 0.4110\n",
      "Epoch 40/100\n",
      "363/363 [==============================] - 1s 4ms/step - loss: 0.3933 - val_loss: 0.4092\n"
     ]
    }
   ],
   "source": [
    "history = model.fit(x_train_scaled, y_train,\n",
    "                   validation_data=(x_valid_scaled, y_valid),\n",
    "                   epochs = 100,\n",
    "                   callbacks= callbacks)"
   ]
  },
  {
   "cell_type": "code",
   "execution_count": 14,
   "id": "9bbf99cc",
   "metadata": {},
   "outputs": [
    {
     "name": "stdout",
     "output_type": "stream",
     "text": [
      "162/162 [==============================] - 0s 2ms/step - loss: 0.4136\n"
     ]
    },
    {
     "data": {
      "text/plain": [
       "0.41359058022499084"
      ]
     },
     "execution_count": 14,
     "metadata": {},
     "output_type": "execute_result"
    }
   ],
   "source": [
    "model.evaluate(x_test_scaled, y_test)"
   ]
  },
  {
   "cell_type": "code",
   "execution_count": 15,
   "id": "3fbe95ce",
   "metadata": {},
   "outputs": [],
   "source": [
    "\"\"\"\n",
    "多输入结构\n",
    "\"\"\"\n",
    "input_wide = keras.layers.Input(shape=[5]) # 前五个作为wide的输入\n",
    "input_deep = keras.layers.Input(shape=[6]) # 后六个作为deep的输入\n",
    "hidden1 = keras.layers.Dense(30, activation='relu')(input_deep)\n",
    "hidden2 = keras.layers.Dense(30, activation='relu')(hidden1)\n",
    "concat = keras.layers.concatenate([input_wide, hidden2])\n",
    "output = keras.layers.Dense(1)(concat)\n",
    "\n",
    "\"\"\"\n",
    "固化model\n",
    "\"\"\"\n",
    "model = keras.models.Model(inputs = [input_wide, input_deep],\n",
    "                          outputs = [output])"
   ]
  },
  {
   "cell_type": "code",
   "execution_count": 16,
   "id": "1b6a6d34",
   "metadata": {},
   "outputs": [
    {
     "name": "stdout",
     "output_type": "stream",
     "text": [
      "Model: \"model_1\"\n",
      "__________________________________________________________________________________________________\n",
      "Layer (type)                    Output Shape         Param #     Connected to                     \n",
      "==================================================================================================\n",
      "input_3 (InputLayer)            [(None, 6)]          0                                            \n",
      "__________________________________________________________________________________________________\n",
      "dense_9 (Dense)                 (None, 30)           210         input_3[0][0]                    \n",
      "__________________________________________________________________________________________________\n",
      "input_2 (InputLayer)            [(None, 5)]          0                                            \n",
      "__________________________________________________________________________________________________\n",
      "dense_10 (Dense)                (None, 30)           930         dense_9[0][0]                    \n",
      "__________________________________________________________________________________________________\n",
      "concatenate_1 (Concatenate)     (None, 35)           0           input_2[0][0]                    \n",
      "                                                                 dense_10[0][0]                   \n",
      "__________________________________________________________________________________________________\n",
      "dense_11 (Dense)                (None, 1)            36          concatenate_1[0][0]              \n",
      "==================================================================================================\n",
      "Total params: 1,176\n",
      "Trainable params: 1,176\n",
      "Non-trainable params: 0\n",
      "__________________________________________________________________________________________________\n"
     ]
    }
   ],
   "source": [
    "model.summary()"
   ]
  },
  {
   "cell_type": "code",
   "execution_count": 18,
   "id": "35937734",
   "metadata": {},
   "outputs": [
    {
     "name": "stdout",
     "output_type": "stream",
     "text": [
      "Epoch 1/100\n",
      "363/363 [==============================] - 2s 3ms/step - loss: 2.1159 - val_loss: 0.8848\n",
      "Epoch 2/100\n",
      "363/363 [==============================] - 2s 5ms/step - loss: 0.7449 - val_loss: 0.7248\n",
      "Epoch 3/100\n",
      "363/363 [==============================] - 2s 6ms/step - loss: 0.6535 - val_loss: 0.6695\n",
      "Epoch 4/100\n",
      "363/363 [==============================] - 1s 3ms/step - loss: 0.6082 - val_loss: 0.6310\n",
      "Epoch 5/100\n",
      "363/363 [==============================] - 1s 2ms/step - loss: 0.5751 - val_loss: 0.6014\n",
      "Epoch 6/100\n",
      "363/363 [==============================] - 1s 4ms/step - loss: 0.5506 - val_loss: 0.5769\n",
      "Epoch 7/100\n",
      "363/363 [==============================] - 1s 3ms/step - loss: 0.5330 - val_loss: 0.5613\n",
      "Epoch 8/100\n",
      "363/363 [==============================] - 1s 3ms/step - loss: 0.5198 - val_loss: 0.5478\n",
      "Epoch 9/100\n",
      "363/363 [==============================] - 1s 3ms/step - loss: 0.5090 - val_loss: 0.5363\n",
      "Epoch 10/100\n",
      "363/363 [==============================] - 1s 3ms/step - loss: 0.5001 - val_loss: 0.5272\n",
      "Epoch 11/100\n",
      "363/363 [==============================] - 1s 2ms/step - loss: 0.4924 - val_loss: 0.5203\n",
      "Epoch 12/100\n",
      "363/363 [==============================] - 1s 3ms/step - loss: 0.4857 - val_loss: 0.5124\n",
      "Epoch 13/100\n",
      "363/363 [==============================] - 2s 5ms/step - loss: 0.4802 - val_loss: 0.5066\n",
      "Epoch 14/100\n",
      "363/363 [==============================] - 1s 2ms/step - loss: 0.4749 - val_loss: 0.5005\n",
      "Epoch 15/100\n",
      "363/363 [==============================] - 1s 2ms/step - loss: 0.4694 - val_loss: 0.4948\n",
      "Epoch 16/100\n",
      "363/363 [==============================] - 1s 3ms/step - loss: 0.4649 - val_loss: 0.4898\n",
      "Epoch 17/100\n",
      "363/363 [==============================] - 1s 2ms/step - loss: 0.4609 - val_loss: 0.4853\n",
      "Epoch 18/100\n",
      "363/363 [==============================] - 1s 2ms/step - loss: 0.4567 - val_loss: 0.4824\n",
      "Epoch 19/100\n",
      "363/363 [==============================] - 1s 2ms/step - loss: 0.4534 - val_loss: 0.4770\n",
      "Epoch 20/100\n",
      "363/363 [==============================] - 1s 2ms/step - loss: 0.4492 - val_loss: 0.4727\n",
      "Epoch 21/100\n",
      "363/363 [==============================] - 1s 4ms/step - loss: 0.4460 - val_loss: 0.4684\n",
      "Epoch 22/100\n",
      "363/363 [==============================] - 1s 2ms/step - loss: 0.4431 - val_loss: 0.4650\n",
      "Epoch 23/100\n",
      "363/363 [==============================] - 1s 2ms/step - loss: 0.4402 - val_loss: 0.4627\n",
      "Epoch 24/100\n",
      "363/363 [==============================] - 1s 3ms/step - loss: 0.4374 - val_loss: 0.4592\n",
      "Epoch 25/100\n",
      "363/363 [==============================] - 1s 2ms/step - loss: 0.4350 - val_loss: 0.4562\n",
      "Epoch 26/100\n",
      "363/363 [==============================] - 1s 2ms/step - loss: 0.4324 - val_loss: 0.4542\n",
      "Epoch 27/100\n",
      "363/363 [==============================] - 1s 3ms/step - loss: 0.4298 - val_loss: 0.4526\n",
      "Epoch 28/100\n",
      "363/363 [==============================] - 1s 3ms/step - loss: 0.4279 - val_loss: 0.4491\n",
      "Epoch 29/100\n",
      "363/363 [==============================] - 1s 2ms/step - loss: 0.4263 - val_loss: 0.4469\n",
      "Epoch 30/100\n",
      "363/363 [==============================] - 1s 2ms/step - loss: 0.4245 - val_loss: 0.4449\n",
      "Epoch 31/100\n",
      "363/363 [==============================] - 1s 2ms/step - loss: 0.4224 - val_loss: 0.4440\n",
      "Epoch 32/100\n",
      "363/363 [==============================] - 1s 3ms/step - loss: 0.4207 - val_loss: 0.4429\n",
      "Epoch 33/100\n",
      "363/363 [==============================] - 2s 5ms/step - loss: 0.4189 - val_loss: 0.4396\n",
      "Epoch 34/100\n",
      "363/363 [==============================] - 2s 4ms/step - loss: 0.4173 - val_loss: 0.4404\n",
      "Epoch 35/100\n",
      "363/363 [==============================] - 1s 3ms/step - loss: 0.4158 - val_loss: 0.4374\n"
     ]
    }
   ],
   "source": [
    "\"\"\"\n",
    "x_wide:数据集前5个特征\n",
    "x_deep:数据集后6个特征\n",
    "\"\"\"\n",
    "x_train_scaled_wide = x_train_scaled[:,:5]\n",
    "x_train_scaled_deep = x_train_scaled[:,2:]\n",
    "x_valid_scaled_wide = x_valid_scaled[:,:5]\n",
    "x_valid_scaled_deep = x_valid_scaled[:,2:]\n",
    "x_test_scaled_wide = x_test_scaled[:,:5]\n",
    "x_test_scaled_deep = x_test_scaled[:,2:]\n",
    "\n",
    "# 编译模型， 损失函数为均方误差函数，优化函数为随机梯度下降\n",
    "model.compile(loss=\"mean_squared_error\", optimizer = keras.optimizers.SGD(0.001))\n",
    "# 回调函数使用了EarlyStopping，patience设为5， 阈值设置为1e-2\n",
    "callbacks = [keras.callbacks.EarlyStopping(patience=5, min_delta=1e-2)]\n",
    "\n",
    "history = model.fit([x_train_scaled_wide, x_train_scaled_deep], y_train,\n",
    "                   validation_data=([x_valid_scaled_wide, x_valid_scaled_deep], y_valid),\n",
    "                   epochs = 100,\n",
    "                   callbacks= callbacks)"
   ]
  },
  {
   "cell_type": "code",
   "execution_count": 19,
   "id": "7f7449ac",
   "metadata": {},
   "outputs": [
    {
     "name": "stdout",
     "output_type": "stream",
     "text": [
      "162/162 [==============================] - 0s 2ms/step - loss: 0.4286\n"
     ]
    },
    {
     "data": {
      "text/plain": [
       "0.42855796217918396"
      ]
     },
     "execution_count": 19,
     "metadata": {},
     "output_type": "execute_result"
    }
   ],
   "source": [
    "model.evaluate([x_test_scaled_wide, x_test_scaled_deep], y_test)"
   ]
  },
  {
   "cell_type": "code",
   "execution_count": null,
   "id": "d0d69fd9",
   "metadata": {},
   "outputs": [],
   "source": [
    "# https://blog.csdn.net/qq_42580947/article/details/105302840"
   ]
  },
  {
   "cell_type": "code",
   "execution_count": null,
   "id": "622f8b0b",
   "metadata": {},
   "outputs": [],
   "source": [
    "# https://zhuanlan.zhihu.com/p/348968507"
   ]
  },
  {
   "cell_type": "code",
   "execution_count": 110,
   "id": "ed9310f0",
   "metadata": {},
   "outputs": [],
   "source": [
    "from sklearn.datasets import load_breast_cancer\n",
    "\n",
    "demo_data = load_breast_cancer()\n",
    "# print(demo_data.DESCR)\n",
    "# print(demo_data.data.shape)\n",
    "# print(demo_data.target.shape)"
   ]
  },
  {
   "cell_type": "code",
   "execution_count": 114,
   "id": "dea77b22",
   "metadata": {},
   "outputs": [
    {
     "data": {
      "text/plain": [
       "(569, 30)"
      ]
     },
     "execution_count": 114,
     "metadata": {},
     "output_type": "execute_result"
    }
   ],
   "source": [
    "# demo_data.data.shape"
   ]
  },
  {
   "cell_type": "code",
   "execution_count": 93,
   "id": "837c5d1e",
   "metadata": {},
   "outputs": [
    {
     "name": "stdout",
     "output_type": "stream",
     "text": [
      "(319, 30) (319,)\n",
      "(107, 30) (107,)\n",
      "(143, 30) (143,)\n"
     ]
    }
   ],
   "source": [
    "from sklearn.model_selection import train_test_split\n",
    "\n",
    "x_train_all, x_test, y_train_all, y_test = train_test_split(\n",
    "    demo_data.data, demo_data.target, random_state = 7)\n",
    "x_train, x_valid, y_train, y_valid = train_test_split(\n",
    "    x_train_all, y_train_all, random_state = 11)\n",
    "print(x_train.shape, y_train.shape)\n",
    "print(x_valid.shape, y_valid.shape)\n",
    "print(x_test.shape, y_test.shape)"
   ]
  },
  {
   "cell_type": "code",
   "execution_count": 94,
   "id": "866f0ed3",
   "metadata": {},
   "outputs": [
    {
     "name": "stdout",
     "output_type": "stream",
     "text": [
      "(319, 30) (319,)\n",
      "(107, 30) (107,)\n",
      "(143, 30) (143,)\n"
     ]
    }
   ],
   "source": [
    "from sklearn.model_selection import train_test_split\n",
    "\n",
    "x_train_all, x_test, y_train_all, y_test = train_test_split(\n",
    "    demo_data.data, demo_data.target, random_state = 7)\n",
    "x_train, x_valid, y_train, y_valid = train_test_split(\n",
    "    x_train_all, y_train_all, random_state = 11)\n",
    "print(x_train.shape, y_train.shape)\n",
    "print(x_valid.shape, y_valid.shape)\n",
    "print(x_test.shape, y_test.shape)"
   ]
  },
  {
   "cell_type": "code",
   "execution_count": 95,
   "id": "36551c36",
   "metadata": {},
   "outputs": [],
   "source": [
    "# 数据归一化\n",
    "from sklearn.preprocessing import StandardScaler\n",
    "scaler = StandardScaler()\n",
    "# 训练集数据使用的是 fit_transform，和验证集与测试集中使用的 transform 是不一样的\n",
    "# fit_transform 可以计算数据的均值和方差并记录下来\n",
    "# 验证集和测试集用到的均值和方差都是训练集数据的，所以二者的归一化使用 transform 即可\n",
    "# 归一化只针对输入数据， 标签不变\n",
    "x_train_scaled = scaler.fit_transform(x_train)\n",
    "x_valid_scaled = scaler.transform(x_valid)\n",
    "x_test_scaled = scaler.transform(x_test)"
   ]
  },
  {
   "cell_type": "code",
   "execution_count": 96,
   "id": "fe30926f",
   "metadata": {},
   "outputs": [
    {
     "data": {
      "text/plain": [
       "(319, 30)"
      ]
     },
     "execution_count": 96,
     "metadata": {},
     "output_type": "execute_result"
    }
   ],
   "source": [
    "x_train_scaled.shape"
   ]
  },
  {
   "cell_type": "code",
   "execution_count": 97,
   "id": "377a98a9",
   "metadata": {},
   "outputs": [
    {
     "data": {
      "text/plain": [
       "(319,)"
      ]
     },
     "execution_count": 97,
     "metadata": {},
     "output_type": "execute_result"
    }
   ],
   "source": [
    "y_train.shape"
   ]
  },
  {
   "cell_type": "code",
   "execution_count": 71,
   "id": "73de8334",
   "metadata": {},
   "outputs": [],
   "source": [
    "input_wide = tf.keras.layers.Input(shape=[15], name='input_wide')\n",
    "input_deep = tf.keras.layers.Input(shape=[15], name='input_deep')\n",
    "hidden1 = tf.keras.layers.Dense(30, activation='relu')(input_deep)\n",
    "hidden2 = tf.keras.layers.Dense(30, activation='relu')(hidden1)\n",
    "concat = tf.keras.layers.concatenate([input_wide, hidden2])\n",
    "output = tf.keras.layers.Dense(1, activation='sigmoid')(concat)\n",
    "\n",
    "\n",
    "model = tf.keras.models.Model(inputs = [input_wide, input_deep], outputs = [output])"
   ]
  },
  {
   "cell_type": "code",
   "execution_count": 63,
   "id": "7b262e26",
   "metadata": {},
   "outputs": [
    {
     "data": {
      "text/plain": [
       "<tf.Tensor: shape=(1, 1), dtype=float32, numpy=array([[0.99916446]], dtype=float32)>"
      ]
     },
     "execution_count": 63,
     "metadata": {},
     "output_type": "execute_result"
    }
   ],
   "source": [
    "# test \n",
    "tf.random.set_seed(2)\n",
    "inputs = [np.array([list(range(15))]), np.array([list(range(15))])]\n",
    "\n",
    "model(inputs)\n"
   ]
  },
  {
   "cell_type": "code",
   "execution_count": 64,
   "id": "7cd49726",
   "metadata": {},
   "outputs": [
    {
     "name": "stdout",
     "output_type": "stream",
     "text": [
      "('You must install pydot (`pip install pydot`) and install graphviz (see instructions at https://graphviz.gitlab.io/download/) ', 'for plot_model/model_to_dot to work.')\n"
     ]
    }
   ],
   "source": [
    "# plot model\n",
    "tf.keras.utils.plot_model(\n",
    "    model,\n",
    "    to_file=\"model.png\",\n",
    "    show_shapes=False,\n",
    "    show_dtype=False,\n",
    "    show_layer_names=True,\n",
    "    rankdir=\"TB\",\n",
    "    expand_nested=False,\n",
    "    dpi=96,\n",
    ")"
   ]
  },
  {
   "cell_type": "code",
   "execution_count": 43,
   "id": "04981902",
   "metadata": {},
   "outputs": [],
   "source": [
    "class WideDeepModel(tf.keras.models.Model):\n",
    "    def __init__(self, **kwargs):\n",
    "        super().__init__(**kwargs)\n",
    "        self.hidden1 = tf.keras.layers.Dense(30, activation='relu')\n",
    "        self.hidden2 = tf.keras.layers.Dense(30, activation='relu')\n",
    "        self.concat = tf.keras.layers.concatenate\n",
    "        self.dense = tf.keras.layers.Dense(1, activation='sigmoid')\n",
    "\n",
    "    def call(self, inputs):\n",
    "        input_wide, input_deep = inputs\n",
    "        output_deep = self.hidden1(input_deep)\n",
    "        output_deep = self.hidden2(output_deep)\n",
    "        concat_input = self.concat([input_wide, output_deep])\n",
    "        output = self.dense(concat_input)\n",
    "        return output\n",
    "\n",
    "    def build_graph(self, shapes):\n",
    "        shape1, shape2 = shapes\n",
    "        input_wide = tf.keras.layers.Input(shape=shape1)\n",
    "        input_deep = tf.keras.layers.Input(shape=shape2)\n",
    "        return tf.keras.models.Model(inputs=[input_wide, input_deep], outputs=[self.call([input_wide, input_deep])])"
   ]
  },
  {
   "cell_type": "code",
   "execution_count": 32,
   "id": "07db73d2",
   "metadata": {},
   "outputs": [],
   "source": [
    "model = WideDeepModel()"
   ]
  },
  {
   "cell_type": "code",
   "execution_count": 33,
   "id": "614b2290",
   "metadata": {},
   "outputs": [
    {
     "name": "stdout",
     "output_type": "stream",
     "text": [
      "('You must install pydot (`pip install pydot`) and install graphviz (see instructions at https://graphviz.gitlab.io/download/) ', 'for plot_model/model_to_dot to work.')\n"
     ]
    }
   ],
   "source": [
    "# plot model\n",
    "tf.keras.utils.plot_model(\n",
    "    model.build_graph([(15), (15)]),\n",
    "    to_file=\"model.png\",\n",
    "    show_shapes=False,\n",
    "    show_dtype=False,\n",
    "    show_layer_names=True,\n",
    "    rankdir=\"TB\",\n",
    "    expand_nested=False,\n",
    "    dpi=96,\n",
    ")\n"
   ]
  },
  {
   "cell_type": "code",
   "execution_count": 99,
   "id": "14d7fd33",
   "metadata": {},
   "outputs": [],
   "source": [
    "class WideDeepModel(tf.keras.models.Model):\n",
    "    def __init__(self, **kwargs):\n",
    "        super().__init__(**kwargs)\n",
    "        self.hidden1 = tf.keras.layers.Dense(30, activation='relu')\n",
    "        self.hidden2 = tf.keras.layers.Dense(30, activation='relu')\n",
    "        self.concat = tf.keras.layers.concatenate\n",
    "        self.dense1 = tf.keras.layers.Dense(1, activation='sigmoid', name='output_1')\n",
    "        self.dense2 = tf.keras.layers.Dense(1, activation='sigmoid', name='output_2')\n",
    "\n",
    "    def call(self, inputs):\n",
    "        input_wide, input_deep = inputs\n",
    "        output_deep = self.hidden1(input_deep)\n",
    "        output_deep = self.hidden2(output_deep)\n",
    "        concat_input = self.concat([input_wide, output_deep])\n",
    "        output1 = self.dense1(concat_input)\n",
    "        output2 = self.dense2(concat_input)\n",
    "        return [output1, output2]\n",
    "\n",
    "#     def build_graph(self, shapes):\n",
    "#         x_wide_shape, x_deep_shape = shapes\n",
    "#         input_wide = tf.keras.layers.Input(shape=[15], name='input_wide')\n",
    "#         input_deep = tf.keras.layers.Input(shape=[15], name='input_deep')\n",
    "#         inputs = [input_wide, input_deep]\n",
    "#         return tf.keras.models.Model(inputs=inputs, outputs=self.call(inputs))"
   ]
  },
  {
   "cell_type": "code",
   "execution_count": 100,
   "id": "995c20e0",
   "metadata": {},
   "outputs": [
    {
     "data": {
      "text/plain": [
       "[<tf.Tensor: shape=(1, 1), dtype=float32, numpy=array([[0.99916446]], dtype=float32)>,\n",
       " <tf.Tensor: shape=(1, 1), dtype=float32, numpy=array([[2.5182046e-05]], dtype=float32)>]"
      ]
     },
     "execution_count": 100,
     "metadata": {},
     "output_type": "execute_result"
    }
   ],
   "source": [
    "# test \n",
    "# load model\n",
    "model = WideDeepModel()\n",
    "\n",
    "# load model by Squential\n",
    "# model = tf.keras.models.Sequential([WideDeepModel(), ])\n",
    "# # input_shape = [(None, 15), (None, 15)]\n",
    "# # model.build(input_shape=(None, 15))\n",
    "# # model.summary()\n",
    "\n",
    "inputs = [np.array([list(range(15))]).astype('float32'), np.array([list(range(15))]).astype('float32')]\n",
    "\n",
    "model(inputs)\n"
   ]
  },
  {
   "cell_type": "code",
   "execution_count": 101,
   "id": "540855de",
   "metadata": {},
   "outputs": [],
   "source": [
    "model.compile(loss='binary_crossentropy', optimizer='adam', metrics=['accuracy'])\n",
    "callbacks = [\n",
    "    tf.keras.callbacks.EarlyStopping(patience=5, min_delta=1e-2)\n",
    "]"
   ]
  },
  {
   "cell_type": "code",
   "execution_count": 102,
   "id": "9b785b53",
   "metadata": {},
   "outputs": [],
   "source": [
    "## specific loss and loss weights\n",
    "losses = {\n",
    "    \"output_1\": \"binary_crossentropy\",\n",
    "    \"output_2\": \"binary_crossentropy\",\n",
    "}\n",
    "loss_weights = {\"output_1\": 1.0, \"output_2\": 2}\n",
    "model.compile(loss=losses, loss_weights=loss_weights, metrics=['accuracy'])"
   ]
  },
  {
   "cell_type": "code",
   "execution_count": 103,
   "id": "daeb975d",
   "metadata": {},
   "outputs": [
    {
     "name": "stdout",
     "output_type": "stream",
     "text": [
      "Epoch 1/100\n",
      "10/10 [==============================] - 2s 55ms/step - loss: 2.0272 - output_1_loss: 0.6256 - output_2_loss: 0.7008 - output_1_accuracy: 0.6928 - output_2_accuracy: 0.5266 - val_loss: 1.8866 - val_output_1_loss: 0.5655 - val_output_2_loss: 0.6605 - val_output_1_accuracy: 0.7850 - val_output_2_accuracy: 0.5327\n",
      "Epoch 2/100\n",
      "10/10 [==============================] - 0s 10ms/step - loss: 1.6873 - output_1_loss: 0.5277 - output_2_loss: 0.5798 - output_1_accuracy: 0.8182 - output_2_accuracy: 0.6959 - val_loss: 1.6009 - val_output_1_loss: 0.4876 - val_output_2_loss: 0.5566 - val_output_1_accuracy: 0.8505 - val_output_2_accuracy: 0.6916\n",
      "Epoch 3/100\n",
      "10/10 [==============================] - 0s 10ms/step - loss: 1.4276 - output_1_loss: 0.4532 - output_2_loss: 0.4872 - output_1_accuracy: 0.9028 - output_2_accuracy: 0.8370 - val_loss: 1.3413 - val_output_1_loss: 0.4184 - val_output_2_loss: 0.4615 - val_output_1_accuracy: 0.8972 - val_output_2_accuracy: 0.8505\n",
      "Epoch 4/100\n",
      "10/10 [==============================] - 0s 8ms/step - loss: 1.1943 - output_1_loss: 0.3874 - output_2_loss: 0.4034 - output_1_accuracy: 0.9216 - output_2_accuracy: 0.9060 - val_loss: 1.1097 - val_output_1_loss: 0.3568 - val_output_2_loss: 0.3764 - val_output_1_accuracy: 0.9439 - val_output_2_accuracy: 0.9159\n",
      "Epoch 5/100\n",
      "10/10 [==============================] - 0s 13ms/step - loss: 0.9921 - output_1_loss: 0.3295 - output_2_loss: 0.3313 - output_1_accuracy: 0.9467 - output_2_accuracy: 0.9373 - val_loss: 0.9198 - val_output_1_loss: 0.3045 - val_output_2_loss: 0.3076 - val_output_1_accuracy: 0.9533 - val_output_2_accuracy: 0.9159\n",
      "Epoch 6/100\n",
      "10/10 [==============================] - 0s 10ms/step - loss: 0.8225 - output_1_loss: 0.2801 - output_2_loss: 0.2712 - output_1_accuracy: 0.9498 - output_2_accuracy: 0.9498 - val_loss: 0.7642 - val_output_1_loss: 0.2602 - val_output_2_loss: 0.2520 - val_output_1_accuracy: 0.9533 - val_output_2_accuracy: 0.9439\n",
      "Epoch 7/100\n",
      "10/10 [==============================] - 0s 10ms/step - loss: 0.6841 - output_1_loss: 0.2381 - output_2_loss: 0.2230 - output_1_accuracy: 0.9498 - output_2_accuracy: 0.9561 - val_loss: 0.6446 - val_output_1_loss: 0.2248 - val_output_2_loss: 0.2099 - val_output_1_accuracy: 0.9533 - val_output_2_accuracy: 0.9439\n",
      "Epoch 8/100\n",
      "10/10 [==============================] - 0s 10ms/step - loss: 0.5748 - output_1_loss: 0.2036 - output_2_loss: 0.1856 - output_1_accuracy: 0.9498 - output_2_accuracy: 0.9655 - val_loss: 0.5527 - val_output_1_loss: 0.1969 - val_output_2_loss: 0.1779 - val_output_1_accuracy: 0.9533 - val_output_2_accuracy: 0.9439\n",
      "Epoch 9/100\n",
      "10/10 [==============================] - 0s 13ms/step - loss: 0.4873 - output_1_loss: 0.1751 - output_2_loss: 0.1561 - output_1_accuracy: 0.9655 - output_2_accuracy: 0.9718 - val_loss: 0.4793 - val_output_1_loss: 0.1733 - val_output_2_loss: 0.1530 - val_output_1_accuracy: 0.9533 - val_output_2_accuracy: 0.9626\n",
      "Epoch 10/100\n",
      "10/10 [==============================] - 0s 7ms/step - loss: 0.4175 - output_1_loss: 0.1517 - output_2_loss: 0.1329 - output_1_accuracy: 0.9655 - output_2_accuracy: 0.9749 - val_loss: 0.4231 - val_output_1_loss: 0.1539 - val_output_2_loss: 0.1346 - val_output_1_accuracy: 0.9626 - val_output_2_accuracy: 0.9626\n",
      "Epoch 11/100\n",
      "10/10 [==============================] - 0s 9ms/step - loss: 0.3613 - output_1_loss: 0.1321 - output_2_loss: 0.1146 - output_1_accuracy: 0.9687 - output_2_accuracy: 0.9718 - val_loss: 0.3819 - val_output_1_loss: 0.1389 - val_output_2_loss: 0.1215 - val_output_1_accuracy: 0.9626 - val_output_2_accuracy: 0.9626\n",
      "Epoch 12/100\n",
      "10/10 [==============================] - 0s 14ms/step - loss: 0.3187 - output_1_loss: 0.1167 - output_2_loss: 0.1010 - output_1_accuracy: 0.9687 - output_2_accuracy: 0.9749 - val_loss: 0.3515 - val_output_1_loss: 0.1268 - val_output_2_loss: 0.1123 - val_output_1_accuracy: 0.9626 - val_output_2_accuracy: 0.9533\n",
      "Epoch 13/100\n",
      "10/10 [==============================] - 0s 14ms/step - loss: 0.2839 - output_1_loss: 0.1039 - output_2_loss: 0.0900 - output_1_accuracy: 0.9781 - output_2_accuracy: 0.9812 - val_loss: 0.3272 - val_output_1_loss: 0.1173 - val_output_2_loss: 0.1050 - val_output_1_accuracy: 0.9626 - val_output_2_accuracy: 0.9533\n",
      "Epoch 14/100\n",
      "10/10 [==============================] - 0s 9ms/step - loss: 0.2577 - output_1_loss: 0.0941 - output_2_loss: 0.0818 - output_1_accuracy: 0.9843 - output_2_accuracy: 0.9812 - val_loss: 0.3094 - val_output_1_loss: 0.1099 - val_output_2_loss: 0.0997 - val_output_1_accuracy: 0.9626 - val_output_2_accuracy: 0.9533\n",
      "Epoch 15/100\n",
      "10/10 [==============================] - 0s 10ms/step - loss: 0.2347 - output_1_loss: 0.0856 - output_2_loss: 0.0746 - output_1_accuracy: 0.9843 - output_2_accuracy: 0.9812 - val_loss: 0.2976 - val_output_1_loss: 0.1048 - val_output_2_loss: 0.0964 - val_output_1_accuracy: 0.9626 - val_output_2_accuracy: 0.9533\n",
      "Epoch 16/100\n",
      "10/10 [==============================] - 0s 10ms/step - loss: 0.2178 - output_1_loss: 0.0790 - output_2_loss: 0.0694 - output_1_accuracy: 0.9843 - output_2_accuracy: 0.9812 - val_loss: 0.2900 - val_output_1_loss: 0.1011 - val_output_2_loss: 0.0945 - val_output_1_accuracy: 0.9626 - val_output_2_accuracy: 0.9533\n",
      "Epoch 17/100\n",
      "10/10 [==============================] - 0s 10ms/step - loss: 0.2025 - output_1_loss: 0.0732 - output_2_loss: 0.0647 - output_1_accuracy: 0.9875 - output_2_accuracy: 0.9843 - val_loss: 0.2820 - val_output_1_loss: 0.0977 - val_output_2_loss: 0.0921 - val_output_1_accuracy: 0.9626 - val_output_2_accuracy: 0.9533\n",
      "Epoch 18/100\n",
      "10/10 [==============================] - 0s 12ms/step - loss: 0.1895 - output_1_loss: 0.0683 - output_2_loss: 0.0606 - output_1_accuracy: 0.9906 - output_2_accuracy: 0.9906 - val_loss: 0.2742 - val_output_1_loss: 0.0949 - val_output_2_loss: 0.0897 - val_output_1_accuracy: 0.9626 - val_output_2_accuracy: 0.9533\n",
      "Epoch 19/100\n",
      "10/10 [==============================] - 0s 24ms/step - loss: 0.1833 - output_1_loss: 0.0657 - output_2_loss: 0.0588 - output_1_accuracy: 0.9875 - output_2_accuracy: 0.9875 - val_loss: 0.2718 - val_output_1_loss: 0.0936 - val_output_2_loss: 0.0891 - val_output_1_accuracy: 0.9626 - val_output_2_accuracy: 0.9626\n",
      "Epoch 20/100\n",
      "10/10 [==============================] - 0s 38ms/step - loss: 0.1729 - output_1_loss: 0.0619 - output_2_loss: 0.0555 - output_1_accuracy: 0.9906 - output_2_accuracy: 0.9906 - val_loss: 0.2699 - val_output_1_loss: 0.0928 - val_output_2_loss: 0.0885 - val_output_1_accuracy: 0.9626 - val_output_2_accuracy: 0.9720\n",
      "Epoch 21/100\n",
      "10/10 [==============================] - 0s 18ms/step - loss: 0.1655 - output_1_loss: 0.0592 - output_2_loss: 0.0531 - output_1_accuracy: 0.9906 - output_2_accuracy: 0.9906 - val_loss: 0.2693 - val_output_1_loss: 0.0925 - val_output_2_loss: 0.0884 - val_output_1_accuracy: 0.9626 - val_output_2_accuracy: 0.9720\n",
      "Epoch 22/100\n",
      "10/10 [==============================] - 0s 15ms/step - loss: 0.1603 - output_1_loss: 0.0571 - output_2_loss: 0.0516 - output_1_accuracy: 0.9906 - output_2_accuracy: 0.9906 - val_loss: 0.2660 - val_output_1_loss: 0.0913 - val_output_2_loss: 0.0873 - val_output_1_accuracy: 0.9626 - val_output_2_accuracy: 0.9720\n",
      "Epoch 23/100\n",
      "10/10 [==============================] - 0s 15ms/step - loss: 0.1541 - output_1_loss: 0.0549 - output_2_loss: 0.0496 - output_1_accuracy: 0.9906 - output_2_accuracy: 0.9906 - val_loss: 0.2658 - val_output_1_loss: 0.0912 - val_output_2_loss: 0.0873 - val_output_1_accuracy: 0.9626 - val_output_2_accuracy: 0.9720\n",
      "Epoch 24/100\n",
      "10/10 [==============================] - 0s 15ms/step - loss: 0.1495 - output_1_loss: 0.0532 - output_2_loss: 0.0482 - output_1_accuracy: 0.9906 - output_2_accuracy: 0.9906 - val_loss: 0.2646 - val_output_1_loss: 0.0908 - val_output_2_loss: 0.0869 - val_output_1_accuracy: 0.9720 - val_output_2_accuracy: 0.9813\n"
     ]
    }
   ],
   "source": [
    "x_train_scaled_wide = x_train_scaled[:, :15]\n",
    "x_train_scaled_deep = x_train_scaled[:, 15:]\n",
    "x_valid_scaled_wide = x_valid_scaled[:, :15]\n",
    "x_valid_scaled_deep = x_valid_scaled[:, 15:]\n",
    "x_test_scaled_wide = x_test_scaled[:, :15]\n",
    "x_test_scaled_deep = x_test_scaled[:, 15:]\n",
    "\n",
    "\n",
    "history = model.fit([x_train_scaled_wide, x_train_scaled_deep], y_train,\n",
    "                   validation_data=([x_valid_scaled_wide, x_valid_scaled_deep], y_valid),\n",
    "                   epochs=100,\n",
    "                   callbacks=callbacks)"
   ]
  },
  {
   "cell_type": "code",
   "execution_count": 108,
   "id": "d7514afe",
   "metadata": {},
   "outputs": [
    {
     "data": {
      "image/png": "[encoded data removed]",
      "text/plain": [
       "<Figure size 576x360 with 1 Axes>"
      ]
     },
     "metadata": {
      "needs_background": "light"
     },
     "output_type": "display_data"
    }
   ],
   "source": [
    "def plot_learning_curves(history):\n",
    "    pd.DataFrame(history.history).plot(figsize=(8,5))\n",
    "    plt.grid(True)\n",
    "    plt.gca().set_ylim(0, 1)\n",
    "    plt.show()\n",
    "\n",
    "plot_learning_curves(history)"
   ]
  },
  {
   "cell_type": "code",
   "execution_count": 109,
   "id": "5e1ebdf8",
   "metadata": {},
   "outputs": [
    {
     "name": "stdout",
     "output_type": "stream",
     "text": [
      "5/5 [==============================] - 0s 3ms/step - loss: 0.2010 - output_1_loss: 0.0721 - output_2_loss: 0.0644 - output_1_accuracy: 0.9860 - output_2_accuracy: 0.9790\n"
     ]
    },
    {
     "data": {
      "text/plain": [
       "[0.2010122537612915,\n",
       " 0.07214956730604172,\n",
       " 0.064431332051754,\n",
       " 0.9860140085220337,\n",
       " 0.9790209531784058]"
      ]
     },
     "execution_count": 109,
     "metadata": {},
     "output_type": "execute_result"
    }
   ],
   "source": [
    "model.evaluate([x_test_scaled_wide, x_test_scaled_deep], y_test)"
   ]
  },
  {
   "cell_type": "code",
   "execution_count": 104,
   "id": "fd36d479",
   "metadata": {},
   "outputs": [
    {
     "data": {
      "text/plain": [
       "(319, 15)"
      ]
     },
     "execution_count": 104,
     "metadata": {},
     "output_type": "execute_result"
    }
   ],
   "source": [
    "x_train_scaled_wide.shape"
   ]
  },
  {
   "cell_type": "code",
   "execution_count": 105,
   "id": "7a8ffc49",
   "metadata": {},
   "outputs": [
    {
     "data": {
      "text/plain": [
       "(319,)"
      ]
     },
     "execution_count": 105,
     "metadata": {},
     "output_type": "execute_result"
    }
   ],
   "source": [
    "y_train.shape"
   ]
  },
  {
   "cell_type": "code",
   "execution_count": 106,
   "id": "d8811f38",
   "metadata": {},
   "outputs": [
    {
     "data": {
      "text/plain": [
       "(107, 15)"
      ]
     },
     "execution_count": 106,
     "metadata": {},
     "output_type": "execute_result"
    }
   ],
   "source": [
    "x_valid_scaled_wide.shape"
   ]
  },
  {
   "cell_type": "code",
   "execution_count": 107,
   "id": "cb59ffb6",
   "metadata": {},
   "outputs": [
    {
     "data": {
      "text/plain": [
       "(107,)"
      ]
     },
     "execution_count": 107,
     "metadata": {},
     "output_type": "execute_result"
    }
   ],
   "source": [
    "y_valid.shape"
   ]
  },
  {
   "cell_type": "code",
   "execution_count": null,
   "id": "bdda1ca9",
   "metadata": {},
   "outputs": [],
   "source": [
    "# https://towardsdatascience.com/how-to-build-a-wide-and-deep-model-using-keras-in-tensorflow-2-0-2f7a236b5a4b"
   ]
  },
  {
   "cell_type": "code",
   "execution_count": null,
   "id": "c85c4e95",
   "metadata": {},
   "outputs": [],
   "source": [
    "real = {\n",
    "    colname : fc.numeric_column(colname) \\\n",
    "          for colname in \\\n",
    "            (’dep_delay,taxiout,distance’).split(’,’)\n",
    "}\n",
    "\n",
    "sparse = {\n",
    "      'origin' : fc.categorical_column_with_hash_bucket(’origin’, hash_bucket_size=1000),\n",
    "      'dest'   : fc.categorical_column_with_hash_bucket(’dest’, hash_bucket_size=1000)\n",
    "}"
   ]
  },
  {
   "cell_type": "code",
   "execution_count": null,
   "id": "bf08595a",
   "metadata": {},
   "outputs": [],
   "source": [
    "inputs = {\n",
    "    colname : tf.keras.layers.Input(name=colname, shape=(), dtype='float32') \\\n",
    "          for colname in real.keys()\n",
    "}\n",
    "\n",
    "inputs.update({\n",
    "    colname : tf.keras.layers.Input(name=colname, shape=(), dtype='string') \\\n",
    "          for colname in sparse.keys()\n",
    "})"
   ]
  },
  {
   "cell_type": "code",
   "execution_count": null,
   "id": "62fd0ee3",
   "metadata": {},
   "outputs": [],
   "source": [
    "embed = {\n",
    "       'embed_{}'.format(colname) : fc.embedding_column(col, 10) \\\n",
    "          for colname, col in sparse.items()\n",
    "}\n",
    "real.update(embed)\n",
    "# one-hot encode the sparse columns\n",
    "sparse = {\n",
    "    colname : fc.indicator_column(col) \\\n",
    "          for colname, col in sparse.items()\n",
    "}"
   ]
  },
  {
   "cell_type": "code",
   "execution_count": null,
   "id": "98a1c755",
   "metadata": {},
   "outputs": [],
   "source": [
    "deep = tf.keras.layers.DenseFeatures(real.values())(inputs)\n",
    "deep = tf.keras.layers.Dense(64, activation='relu')(deep)\n",
    "deep = tf.keras.layers.Dense(16, activation='relu')(deep)\n",
    "output = tf.keras.layers.Dense(1, activation='sigmoid')(deep)\n",
    "model = tf.keras.Model(inputs, output)"
   ]
  },
  {
   "cell_type": "code",
   "execution_count": null,
   "id": "8e0c4ab0",
   "metadata": {},
   "outputs": [],
   "source": [
    "def wide_and_deep_classifier(inputs, linear_feature_columns, dnn_feature_columns, dnn_hidden_units):\n",
    "    deep = tf.keras.layers.DenseFeatures(dnn_feature_columns)(inputs)\n",
    "    for numnodes in dnn_hidden_units:\n",
    "        deep = tf.keras.layers.Dense(numnodes, activation='relu')(deep)        \n",
    "    wide = tf.keras.layers.DenseFeatures(linear_feature_columns)(inputs)\n",
    "    both = tf.keras.layers.concatenate([deep, wide])\n",
    "    output = tf.keras.layers.Dense(1, activation='sigmoid')(both)\n",
    "    model = tf.keras.Model(inputs, output)\n",
    "    model.compile(optimizer='adam',\n",
    "                  loss='binary_crossentropy',\n",
    "                  metrics=['accuracy'])\n",
    "    return model"
   ]
  },
  {
   "cell_type": "code",
   "execution_count": null,
   "id": "fd3c0148",
   "metadata": {},
   "outputs": [],
   "source": [
    "model = wide_and_deep_classifier(inputs, sparse.values(), real.values(), [64, 16])"
   ]
  },
  {
   "cell_type": "code",
   "execution_count": null,
   "id": "63efefba",
   "metadata": {},
   "outputs": [],
   "source": [
    "# feature columns input Keras Functional API\n",
    "# https://stackoverflow.com/questions/54375298/how-to-use-tensorflow-feature-columns-as-input-to-a-keras-model"
   ]
  },
  {
   "cell_type": "code",
   "execution_count": 115,
   "id": "a761acef",
   "metadata": {},
   "outputs": [
    {
     "name": "stdout",
     "output_type": "stream",
     "text": [
      "Downloading data from https://storage.googleapis.com/download.tensorflow.org/data/heart.csv\n",
      "16384/13273 [=====================================] - 0s 0us/step\n",
      "193 train examples\n",
      "49 validation examples\n",
      "61 test examples\n"
     ]
    },
    {
     "name": "stderr",
     "output_type": "stream",
     "text": [
      "C:\\Users\\AI\\anaconda3\\envs\\startup\\lib\\site-packages\\tensorflow\\python\\keras\\engine\\functional.py:588: UserWarning: Input dict contained keys ['sex', 'cp', 'fbs', 'restecg', 'exang'] which did not match any model input. They will be ignored by the model.\n",
      "  warnings.warn(\n"
     ]
    },
    {
     "name": "stdout",
     "output_type": "stream",
     "text": [
      "39/39 [==============================] - 2s 5ms/step - loss: 0.7388 - accuracy: 0.7150\n"
     ]
    },
    {
     "data": {
      "text/plain": [
       "<tensorflow.python.keras.callbacks.History at 0x2039a1c72b0>"
      ]
     },
     "execution_count": 115,
     "metadata": {},
     "output_type": "execute_result"
    }
   ],
   "source": [
    "from __future__ import absolute_import, division, print_function\n",
    "\n",
    "import numpy as np\n",
    "import pandas as pd\n",
    "\n",
    "#!pip install tensorflow==2.0.0-alpha0\n",
    "import tensorflow as tf\n",
    "\n",
    "from tensorflow import feature_column\n",
    "from tensorflow import keras\n",
    "from tensorflow.keras import layers\n",
    "from sklearn.model_selection import train_test_split\n",
    "\n",
    "csv_file = tf.keras.utils.get_file('heart.csv', 'https://storage.googleapis.com/download.tensorflow.org/data/heart.csv')\n",
    "dataframe = pd.read_csv(csv_file, nrows = 10000)\n",
    "dataframe.head()\n",
    "\n",
    "train, test = train_test_split(dataframe, test_size=0.2)\n",
    "train, val = train_test_split(train, test_size=0.2)\n",
    "print(len(train), 'train examples')\n",
    "print(len(val), 'validation examples')\n",
    "print(len(test), 'test examples')\n",
    "\n",
    "# Define method to create tf.data dataset from Pandas Dataframe\n",
    "# This worked with tf 2.0 but does not work with tf 2.2\n",
    "def df_to_dataset_tf_2_0(dataframe, label_column, shuffle=True, batch_size=32):\n",
    "    dataframe = dataframe.copy()\n",
    "    #labels = dataframe.pop(label_column)\n",
    "    labels = dataframe[label_column]\n",
    "\n",
    "    ds = tf.data.Dataset.from_tensor_slices((dict(dataframe), labels))\n",
    "    if shuffle:\n",
    "        ds = ds.shuffle(buffer_size=len(dataframe))\n",
    "    ds = ds.batch(batch_size)\n",
    "    return ds\n",
    "\n",
    "def df_to_dataset(dataframe, label_column, shuffle=True, batch_size=32):\n",
    "    dataframe = dataframe.copy()\n",
    "    labels = dataframe.pop(label_column)\n",
    "    #labels = dataframe[label_column]\n",
    "\n",
    "    ds = tf.data.Dataset.from_tensor_slices((dataframe.to_dict(orient='list'), labels))\n",
    "    if shuffle:\n",
    "        ds = ds.shuffle(buffer_size=len(dataframe))\n",
    "    ds = ds.batch(batch_size)\n",
    "    return ds\n",
    "\n",
    "\n",
    "batch_size = 5 # A small batch sized is used for demonstration purposes\n",
    "train_ds = df_to_dataset(train, label_column = 'target', batch_size=batch_size)\n",
    "val_ds = df_to_dataset(val,label_column = 'target',  shuffle=False, batch_size=batch_size)\n",
    "test_ds = df_to_dataset(test, label_column = 'target', shuffle=False, batch_size=batch_size)\n",
    "\n",
    "age = feature_column.numeric_column(\"age\")\n",
    "\n",
    "feature_columns = []\n",
    "feature_layer_inputs = {}\n",
    "\n",
    "# numeric cols\n",
    "for header in ['age', 'trestbps', 'chol', 'thalach', 'oldpeak', 'slope', 'ca']:\n",
    "    feature_columns.append(feature_column.numeric_column(header))\n",
    "    feature_layer_inputs[header] = tf.keras.Input(shape=(1,), name=header)\n",
    "\n",
    "# bucketized cols\n",
    "age_buckets = feature_column.bucketized_column(age, boundaries=[18, 25, 30, 35])\n",
    "feature_columns.append(age_buckets)\n",
    "\n",
    "# indicator cols\n",
    "thal = feature_column.categorical_column_with_vocabulary_list(\n",
    "      'thal', ['fixed', 'normal', 'reversible'])\n",
    "thal_one_hot = feature_column.indicator_column(thal)\n",
    "feature_columns.append(thal_one_hot)\n",
    "feature_layer_inputs['thal'] = tf.keras.Input(shape=(1,), name='thal', dtype=tf.string)\n",
    "\n",
    "# embedding cols\n",
    "thal_embedding = feature_column.embedding_column(thal, dimension=8)\n",
    "feature_columns.append(thal_embedding)\n",
    "\n",
    "# crossed cols\n",
    "crossed_feature = feature_column.crossed_column([age_buckets, thal], hash_bucket_size=1000)\n",
    "crossed_feature = feature_column.indicator_column(crossed_feature)\n",
    "feature_columns.append(crossed_feature)\n",
    "\n",
    "\n",
    "\n",
    "feature_layer = tf.keras.layers.DenseFeatures(feature_columns)\n",
    "feature_layer_outputs = feature_layer(feature_layer_inputs)\n",
    "\n",
    "x = layers.Dense(128, activation='relu')(feature_layer_outputs)\n",
    "x = layers.Dense(64, activation='relu')(x)\n",
    "\n",
    "baggage_pred = layers.Dense(1, activation='sigmoid')(x)\n",
    "\n",
    "model = keras.Model(inputs=[v for v in feature_layer_inputs.values()], outputs=baggage_pred)\n",
    "\n",
    "model.compile(optimizer='adam',\n",
    "              loss='binary_crossentropy',\n",
    "              metrics=['accuracy'])\n",
    "\n",
    "model.fit(train_ds)"
   ]
  },
  {
   "cell_type": "code",
   "execution_count": 116,
   "id": "68465079",
   "metadata": {},
   "outputs": [
    {
     "data": {
      "text/html": [
       "<div>\n",
       "<style scoped>\n",
       "    .dataframe tbody tr th:only-of-type {\n",
       "        vertical-align: middle;\n",
       "    }\n",
       "\n",
       "    .dataframe tbody tr th {\n",
       "        vertical-align: top;\n",
       "    }\n",
       "\n",
       "    .dataframe thead th {\n",
       "        text-align: right;\n",
       "    }\n",
       "</style>\n",
       "<table border=\"1\" class=\"dataframe\">\n",
       "  <thead>\n",
       "    <tr style=\"text-align: right;\">\n",
       "      <th></th>\n",
       "      <th>age</th>\n",
       "      <th>sex</th>\n",
       "      <th>cp</th>\n",
       "      <th>trestbps</th>\n",
       "      <th>chol</th>\n",
       "      <th>fbs</th>\n",
       "      <th>restecg</th>\n",
       "      <th>thalach</th>\n",
       "      <th>exang</th>\n",
       "      <th>oldpeak</th>\n",
       "      <th>slope</th>\n",
       "      <th>ca</th>\n",
       "      <th>thal</th>\n",
       "      <th>target</th>\n",
       "    </tr>\n",
       "  </thead>\n",
       "  <tbody>\n",
       "    <tr>\n",
       "      <th>0</th>\n",
       "      <td>63</td>\n",
       "      <td>1</td>\n",
       "      <td>1</td>\n",
       "      <td>145</td>\n",
       "      <td>233</td>\n",
       "      <td>1</td>\n",
       "      <td>2</td>\n",
       "      <td>150</td>\n",
       "      <td>0</td>\n",
       "      <td>2.3</td>\n",
       "      <td>3</td>\n",
       "      <td>0</td>\n",
       "      <td>fixed</td>\n",
       "      <td>0</td>\n",
       "    </tr>\n",
       "    <tr>\n",
       "      <th>1</th>\n",
       "      <td>67</td>\n",
       "      <td>1</td>\n",
       "      <td>4</td>\n",
       "      <td>160</td>\n",
       "      <td>286</td>\n",
       "      <td>0</td>\n",
       "      <td>2</td>\n",
       "      <td>108</td>\n",
       "      <td>1</td>\n",
       "      <td>1.5</td>\n",
       "      <td>2</td>\n",
       "      <td>3</td>\n",
       "      <td>normal</td>\n",
       "      <td>1</td>\n",
       "    </tr>\n",
       "    <tr>\n",
       "      <th>2</th>\n",
       "      <td>67</td>\n",
       "      <td>1</td>\n",
       "      <td>4</td>\n",
       "      <td>120</td>\n",
       "      <td>229</td>\n",
       "      <td>0</td>\n",
       "      <td>2</td>\n",
       "      <td>129</td>\n",
       "      <td>1</td>\n",
       "      <td>2.6</td>\n",
       "      <td>2</td>\n",
       "      <td>2</td>\n",
       "      <td>reversible</td>\n",
       "      <td>0</td>\n",
       "    </tr>\n",
       "    <tr>\n",
       "      <th>3</th>\n",
       "      <td>37</td>\n",
       "      <td>1</td>\n",
       "      <td>3</td>\n",
       "      <td>130</td>\n",
       "      <td>250</td>\n",
       "      <td>0</td>\n",
       "      <td>0</td>\n",
       "      <td>187</td>\n",
       "      <td>0</td>\n",
       "      <td>3.5</td>\n",
       "      <td>3</td>\n",
       "      <td>0</td>\n",
       "      <td>normal</td>\n",
       "      <td>0</td>\n",
       "    </tr>\n",
       "    <tr>\n",
       "      <th>4</th>\n",
       "      <td>41</td>\n",
       "      <td>0</td>\n",
       "      <td>2</td>\n",
       "      <td>130</td>\n",
       "      <td>204</td>\n",
       "      <td>0</td>\n",
       "      <td>2</td>\n",
       "      <td>172</td>\n",
       "      <td>0</td>\n",
       "      <td>1.4</td>\n",
       "      <td>1</td>\n",
       "      <td>0</td>\n",
       "      <td>normal</td>\n",
       "      <td>0</td>\n",
       "    </tr>\n",
       "    <tr>\n",
       "      <th>...</th>\n",
       "      <td>...</td>\n",
       "      <td>...</td>\n",
       "      <td>...</td>\n",
       "      <td>...</td>\n",
       "      <td>...</td>\n",
       "      <td>...</td>\n",
       "      <td>...</td>\n",
       "      <td>...</td>\n",
       "      <td>...</td>\n",
       "      <td>...</td>\n",
       "      <td>...</td>\n",
       "      <td>...</td>\n",
       "      <td>...</td>\n",
       "      <td>...</td>\n",
       "    </tr>\n",
       "    <tr>\n",
       "      <th>298</th>\n",
       "      <td>52</td>\n",
       "      <td>1</td>\n",
       "      <td>1</td>\n",
       "      <td>118</td>\n",
       "      <td>186</td>\n",
       "      <td>0</td>\n",
       "      <td>2</td>\n",
       "      <td>190</td>\n",
       "      <td>0</td>\n",
       "      <td>0.0</td>\n",
       "      <td>2</td>\n",
       "      <td>0</td>\n",
       "      <td>fixed</td>\n",
       "      <td>0</td>\n",
       "    </tr>\n",
       "    <tr>\n",
       "      <th>299</th>\n",
       "      <td>43</td>\n",
       "      <td>0</td>\n",
       "      <td>4</td>\n",
       "      <td>132</td>\n",
       "      <td>341</td>\n",
       "      <td>1</td>\n",
       "      <td>2</td>\n",
       "      <td>136</td>\n",
       "      <td>1</td>\n",
       "      <td>3.0</td>\n",
       "      <td>2</td>\n",
       "      <td>0</td>\n",
       "      <td>reversible</td>\n",
       "      <td>1</td>\n",
       "    </tr>\n",
       "    <tr>\n",
       "      <th>300</th>\n",
       "      <td>65</td>\n",
       "      <td>1</td>\n",
       "      <td>4</td>\n",
       "      <td>135</td>\n",
       "      <td>254</td>\n",
       "      <td>0</td>\n",
       "      <td>2</td>\n",
       "      <td>127</td>\n",
       "      <td>0</td>\n",
       "      <td>2.8</td>\n",
       "      <td>2</td>\n",
       "      <td>1</td>\n",
       "      <td>reversible</td>\n",
       "      <td>1</td>\n",
       "    </tr>\n",
       "    <tr>\n",
       "      <th>301</th>\n",
       "      <td>48</td>\n",
       "      <td>1</td>\n",
       "      <td>4</td>\n",
       "      <td>130</td>\n",
       "      <td>256</td>\n",
       "      <td>1</td>\n",
       "      <td>2</td>\n",
       "      <td>150</td>\n",
       "      <td>1</td>\n",
       "      <td>0.0</td>\n",
       "      <td>1</td>\n",
       "      <td>2</td>\n",
       "      <td>reversible</td>\n",
       "      <td>1</td>\n",
       "    </tr>\n",
       "    <tr>\n",
       "      <th>302</th>\n",
       "      <td>63</td>\n",
       "      <td>0</td>\n",
       "      <td>4</td>\n",
       "      <td>150</td>\n",
       "      <td>407</td>\n",
       "      <td>0</td>\n",
       "      <td>2</td>\n",
       "      <td>154</td>\n",
       "      <td>0</td>\n",
       "      <td>4.0</td>\n",
       "      <td>2</td>\n",
       "      <td>3</td>\n",
       "      <td>reversible</td>\n",
       "      <td>1</td>\n",
       "    </tr>\n",
       "  </tbody>\n",
       "</table>\n",
       "<p>303 rows × 14 columns</p>\n",
       "</div>"
      ],
      "text/plain": [
       "     age  sex  cp  trestbps  chol  fbs  restecg  thalach  exang  oldpeak  \\\n",
       "0     63    1   1       145   233    1        2      150      0      2.3   \n",
       "1     67    1   4       160   286    0        2      108      1      1.5   \n",
       "2     67    1   4       120   229    0        2      129      1      2.6   \n",
       "3     37    1   3       130   250    0        0      187      0      3.5   \n",
       "4     41    0   2       130   204    0        2      172      0      1.4   \n",
       "..   ...  ...  ..       ...   ...  ...      ...      ...    ...      ...   \n",
       "298   52    1   1       118   186    0        2      190      0      0.0   \n",
       "299   43    0   4       132   341    1        2      136      1      3.0   \n",
       "300   65    1   4       135   254    0        2      127      0      2.8   \n",
       "301   48    1   4       130   256    1        2      150      1      0.0   \n",
       "302   63    0   4       150   407    0        2      154      0      4.0   \n",
       "\n",
       "     slope  ca        thal  target  \n",
       "0        3   0       fixed       0  \n",
       "1        2   3      normal       1  \n",
       "2        2   2  reversible       0  \n",
       "3        3   0      normal       0  \n",
       "4        1   0      normal       0  \n",
       "..     ...  ..         ...     ...  \n",
       "298      2   0       fixed       0  \n",
       "299      2   0  reversible       1  \n",
       "300      2   1  reversible       1  \n",
       "301      1   2  reversible       1  \n",
       "302      2   3  reversible       1  \n",
       "\n",
       "[303 rows x 14 columns]"
      ]
     },
     "execution_count": 116,
     "metadata": {},
     "output_type": "execute_result"
    }
   ],
   "source": [
    "dataframe"
   ]
  },
  {
   "cell_type": "code",
   "execution_count": null,
   "id": "f68ff629",
   "metadata": {},
   "outputs": [],
   "source": []
  }
 ],
 "metadata": {
  "kernelspec": {
   "display_name": "Python 3",
   "language": "python",
   "name": "python3"
  },
  "language_info": {
   "codemirror_mode": {
    "name": "ipython",
    "version": 3
   },
   "file_extension": ".py",
   "mimetype": "text/x-python",
   "name": "python",
   "nbconvert_exporter": "python",
   "pygments_lexer": "ipython3",
   "version": "3.9.4"
  }
 },
 "nbformat": 4,
 "nbformat_minor": 5
}
