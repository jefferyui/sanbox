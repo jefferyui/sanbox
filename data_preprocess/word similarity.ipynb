{
 "cells": [
  {
   "cell_type": "code",
   "execution_count": 1,
   "id": "22facc42",
   "metadata": {},
   "outputs": [
    {
     "name": "stdout",
     "output_type": "stream",
     "text": [
      "WARNING:tensorflow:From C:\\Users\\jeffe\\AppData\\Local\\Packages\\PythonSoftwareFoundation.Python.3.11_qbz5n2kfra8p0\\LocalCache\\local-packages\\Python311\\site-packages\\tf_keras\\src\\losses.py:2976: The name tf.losses.sparse_softmax_cross_entropy is deprecated. Please use tf.compat.v1.losses.sparse_softmax_cross_entropy instead.\n",
      "\n",
      "原始 DataFrame:\n",
      "               product_name             product_description  \\\n",
      "0             iPhone 13 Pro       Apple iPhone 13 Pro 128GB   \n",
      "1        Samsung Galaxy S21     Samsung Galaxy S21 5G 128GB   \n",
      "2            Google Pixel 6    Google Pixel 6 128GB Android   \n",
      "3                 iPhone 13            Apple iPhone 13 64GB   \n",
      "4  Samsung Galaxy S21 Ultra  Samsung Galaxy S21 Ultra 256GB   \n",
      "\n",
      "        search_query       category  \n",
      "0  iphone 13 pro max     Smartphone  \n",
      "1         galaxy s21   Mobile Phone  \n",
      "2        pixel 6 pro     Cell Phone  \n",
      "3          iphone 13     Smartphone  \n",
      "4          s21 ultra  Premium Phone  \n",
      "\n",
      "\n"
     ]
    },
    {
     "data": {
      "application/vnd.jupyter.widget-view+json": {
       "model_id": "0e0727ddc0914aa7baadad2397f6d607",
       "version_major": 2,
       "version_minor": 0
      },
      "text/plain": [
       "modules.json:   0%|          | 0.00/229 [00:00<?, ?B/s]"
      ]
     },
     "metadata": {},
     "output_type": "display_data"
    },
    {
     "name": "stderr",
     "output_type": "stream",
     "text": [
      "C:\\Users\\jeffe\\AppData\\Local\\Packages\\PythonSoftwareFoundation.Python.3.11_qbz5n2kfra8p0\\LocalCache\\local-packages\\Python311\\site-packages\\huggingface_hub\\file_download.py:143: UserWarning: `huggingface_hub` cache-system uses symlinks by default to efficiently store duplicated files but your machine does not support them in C:\\Users\\jeffe\\.cache\\huggingface\\hub\\models--sentence-transformers--paraphrase-MiniLM-L6-v2. Caching files will still work but in a degraded version that might require more space on your disk. This warning can be disabled by setting the `HF_HUB_DISABLE_SYMLINKS_WARNING` environment variable. For more details, see https://huggingface.co/docs/huggingface_hub/how-to-cache#limitations.\n",
      "To support symlinks on Windows, you either need to activate Developer Mode or to run Python as an administrator. In order to activate developer mode, see this article: https://docs.microsoft.com/en-us/windows/apps/get-started/enable-your-device-for-development\n",
      "  warnings.warn(message)\n"
     ]
    },
    {
     "data": {
      "application/vnd.jupyter.widget-view+json": {
       "model_id": "3a318cbd9e8e4aa2a3485577a6174977",
       "version_major": 2,
       "version_minor": 0
      },
      "text/plain": [
       "config_sentence_transformers.json:   0%|          | 0.00/122 [00:00<?, ?B/s]"
      ]
     },
     "metadata": {},
     "output_type": "display_data"
    },
    {
     "data": {
      "application/vnd.jupyter.widget-view+json": {
       "model_id": "f1d56d90e1d24753b638501d8b668d96",
       "version_major": 2,
       "version_minor": 0
      },
      "text/plain": [
       "README.md:   0%|          | 0.00/3.51k [00:00<?, ?B/s]"
      ]
     },
     "metadata": {},
     "output_type": "display_data"
    },
    {
     "data": {
      "application/vnd.jupyter.widget-view+json": {
       "model_id": "b2caf29dec304db89cc8c690239b65f9",
       "version_major": 2,
       "version_minor": 0
      },
      "text/plain": [
       "sentence_bert_config.json:   0%|          | 0.00/53.0 [00:00<?, ?B/s]"
      ]
     },
     "metadata": {},
     "output_type": "display_data"
    },
    {
     "data": {
      "application/vnd.jupyter.widget-view+json": {
       "model_id": "bdfef75d380d46089f45ddfa8bfa1970",
       "version_major": 2,
       "version_minor": 0
      },
      "text/plain": [
       "config.json:   0%|          | 0.00/629 [00:00<?, ?B/s]"
      ]
     },
     "metadata": {},
     "output_type": "display_data"
    },
    {
     "name": "stderr",
     "output_type": "stream",
     "text": [
      "Xet Storage is enabled for this repo, but the 'hf_xet' package is not installed. Falling back to regular HTTP download. For better performance, install the package with: `pip install huggingface_hub[hf_xet]` or `pip install hf_xet`\n"
     ]
    },
    {
     "data": {
      "application/vnd.jupyter.widget-view+json": {
       "model_id": "7aa8e87fd611458ea400406b57d71b82",
       "version_major": 2,
       "version_minor": 0
      },
      "text/plain": [
       "model.safetensors:   0%|          | 0.00/90.9M [00:00<?, ?B/s]"
      ]
     },
     "metadata": {},
     "output_type": "display_data"
    },
    {
     "data": {
      "application/vnd.jupyter.widget-view+json": {
       "model_id": "019e3151fbd64e909e3a7775aa1f88d0",
       "version_major": 2,
       "version_minor": 0
      },
      "text/plain": [
       "tokenizer_config.json:   0%|          | 0.00/314 [00:00<?, ?B/s]"
      ]
     },
     "metadata": {},
     "output_type": "display_data"
    },
    {
     "data": {
      "application/vnd.jupyter.widget-view+json": {
       "model_id": "2a622d237cc2488bb0d634a44f6cadf6",
       "version_major": 2,
       "version_minor": 0
      },
      "text/plain": [
       "vocab.txt:   0%|          | 0.00/232k [00:00<?, ?B/s]"
      ]
     },
     "metadata": {},
     "output_type": "display_data"
    },
    {
     "data": {
      "application/vnd.jupyter.widget-view+json": {
       "model_id": "699111ded75e4f3f9216026382ab8c6d",
       "version_major": 2,
       "version_minor": 0
      },
      "text/plain": [
       "tokenizer.json:   0%|          | 0.00/466k [00:00<?, ?B/s]"
      ]
     },
     "metadata": {},
     "output_type": "display_data"
    },
    {
     "data": {
      "application/vnd.jupyter.widget-view+json": {
       "model_id": "0820a95920f647f38c1e7cd7b1b6a6d8",
       "version_major": 2,
       "version_minor": 0
      },
      "text/plain": [
       "special_tokens_map.json:   0%|          | 0.00/112 [00:00<?, ?B/s]"
      ]
     },
     "metadata": {},
     "output_type": "display_data"
    },
    {
     "data": {
      "application/vnd.jupyter.widget-view+json": {
       "model_id": "eac4e3516ed04832aab438298509edcb",
       "version_major": 2,
       "version_minor": 0
      },
      "text/plain": [
       "config.json:   0%|          | 0.00/190 [00:00<?, ?B/s]"
      ]
     },
     "metadata": {},
     "output_type": "display_data"
    },
    {
     "name": "stdout",
     "output_type": "stream",
     "text": [
      "各欄位對的平均相似度:\n",
      "                           column_pair  exact_match  fuzzy_similarity  \\\n",
      "0  product_name vs product_description          0.0             0.732   \n",
      "1         product_name vs search_query          0.0             0.644   \n",
      "2  product_description vs search_query          0.0             0.496   \n",
      "3             product_name vs category          0.0             0.278   \n",
      "4      product_description vs category          0.0             0.214   \n",
      "5             search_query vs category          0.0             0.310   \n",
      "\n",
      "   levenshtein_similarity  tfidf_cosine_sim  bert_cosine_sim  \n",
      "0                   0.732             0.683            0.703  \n",
      "1                   0.646             0.749            0.846  \n",
      "2                   0.496             0.504            0.615  \n",
      "3                   0.280             0.000            0.427  \n",
      "4                   0.214             0.000            0.319  \n",
      "5                   0.310             0.000            0.343  \n"
     ]
    },
    {
     "name": "stderr",
     "output_type": "stream",
     "text": [
      "C:\\Users\\jeffe\\AppData\\Local\\Temp\\ipykernel_15216\\3539300384.py:107: UserWarning: Glyph 24179 (\\N{CJK UNIFIED IDEOGRAPH-5E73}) missing from current font.\n",
      "  plt.tight_layout()\n",
      "C:\\Users\\jeffe\\AppData\\Local\\Temp\\ipykernel_15216\\3539300384.py:107: UserWarning: Glyph 22343 (\\N{CJK UNIFIED IDEOGRAPH-5747}) missing from current font.\n",
      "  plt.tight_layout()\n",
      "C:\\Users\\jeffe\\AppData\\Local\\Temp\\ipykernel_15216\\3539300384.py:107: UserWarning: Glyph 30456 (\\N{CJK UNIFIED IDEOGRAPH-76F8}) missing from current font.\n",
      "  plt.tight_layout()\n",
      "C:\\Users\\jeffe\\AppData\\Local\\Temp\\ipykernel_15216\\3539300384.py:107: UserWarning: Glyph 20284 (\\N{CJK UNIFIED IDEOGRAPH-4F3C}) missing from current font.\n",
      "  plt.tight_layout()\n",
      "C:\\Users\\jeffe\\AppData\\Local\\Temp\\ipykernel_15216\\3539300384.py:107: UserWarning: Glyph 24230 (\\N{CJK UNIFIED IDEOGRAPH-5EA6}) missing from current font.\n",
      "  plt.tight_layout()\n",
      "C:\\Users\\jeffe\\AppData\\Local\\Temp\\ipykernel_15216\\3539300384.py:107: UserWarning: Glyph 20998 (\\N{CJK UNIFIED IDEOGRAPH-5206}) missing from current font.\n",
      "  plt.tight_layout()\n",
      "C:\\Users\\jeffe\\AppData\\Local\\Temp\\ipykernel_15216\\3539300384.py:107: UserWarning: Glyph 25976 (\\N{CJK UNIFIED IDEOGRAPH-6578}) missing from current font.\n",
      "  plt.tight_layout()\n",
      "C:\\Users\\jeffe\\AppData\\Local\\Temp\\ipykernel_15216\\3539300384.py:107: UserWarning: Glyph 19981 (\\N{CJK UNIFIED IDEOGRAPH-4E0D}) missing from current font.\n",
      "  plt.tight_layout()\n",
      "C:\\Users\\jeffe\\AppData\\Local\\Temp\\ipykernel_15216\\3539300384.py:107: UserWarning: Glyph 21516 (\\N{CJK UNIFIED IDEOGRAPH-540C}) missing from current font.\n",
      "  plt.tight_layout()\n",
      "C:\\Users\\jeffe\\AppData\\Local\\Temp\\ipykernel_15216\\3539300384.py:107: UserWarning: Glyph 37327 (\\N{CJK UNIFIED IDEOGRAPH-91CF}) missing from current font.\n",
      "  plt.tight_layout()\n",
      "C:\\Users\\jeffe\\AppData\\Local\\Temp\\ipykernel_15216\\3539300384.py:107: UserWarning: Glyph 26041 (\\N{CJK UNIFIED IDEOGRAPH-65B9}) missing from current font.\n",
      "  plt.tight_layout()\n",
      "C:\\Users\\jeffe\\AppData\\Local\\Temp\\ipykernel_15216\\3539300384.py:107: UserWarning: Glyph 27861 (\\N{CJK UNIFIED IDEOGRAPH-6CD5}) missing from current font.\n",
      "  plt.tight_layout()\n",
      "C:\\Users\\jeffe\\AppData\\Local\\Temp\\ipykernel_15216\\3539300384.py:107: UserWarning: Glyph 30340 (\\N{CJK UNIFIED IDEOGRAPH-7684}) missing from current font.\n",
      "  plt.tight_layout()\n",
      "C:\\Users\\jeffe\\AppData\\Local\\Temp\\ipykernel_15216\\3539300384.py:107: UserWarning: Glyph 27604 (\\N{CJK UNIFIED IDEOGRAPH-6BD4}) missing from current font.\n",
      "  plt.tight_layout()\n",
      "C:\\Users\\jeffe\\AppData\\Local\\Temp\\ipykernel_15216\\3539300384.py:107: UserWarning: Glyph 36611 (\\N{CJK UNIFIED IDEOGRAPH-8F03}) missing from current font.\n",
      "  plt.tight_layout()\n"
     ]
    },
    {
     "data": {
      "text/plain": [
       "<Figure size 1200x600 with 0 Axes>"
      ]
     },
     "metadata": {},
     "output_type": "display_data"
    },
    {
     "name": "stderr",
     "output_type": "stream",
     "text": [
      "C:\\Users\\jeffe\\AppData\\Local\\Packages\\PythonSoftwareFoundation.Python.3.11_qbz5n2kfra8p0\\LocalCache\\local-packages\\Python311\\site-packages\\IPython\\core\\pylabtools.py:170: UserWarning: Glyph 24179 (\\N{CJK UNIFIED IDEOGRAPH-5E73}) missing from current font.\n",
      "  fig.canvas.print_figure(bytes_io, **kw)\n",
      "C:\\Users\\jeffe\\AppData\\Local\\Packages\\PythonSoftwareFoundation.Python.3.11_qbz5n2kfra8p0\\LocalCache\\local-packages\\Python311\\site-packages\\IPython\\core\\pylabtools.py:170: UserWarning: Glyph 22343 (\\N{CJK UNIFIED IDEOGRAPH-5747}) missing from current font.\n",
      "  fig.canvas.print_figure(bytes_io, **kw)\n",
      "C:\\Users\\jeffe\\AppData\\Local\\Packages\\PythonSoftwareFoundation.Python.3.11_qbz5n2kfra8p0\\LocalCache\\local-packages\\Python311\\site-packages\\IPython\\core\\pylabtools.py:170: UserWarning: Glyph 30456 (\\N{CJK UNIFIED IDEOGRAPH-76F8}) missing from current font.\n",
      "  fig.canvas.print_figure(bytes_io, **kw)\n",
      "C:\\Users\\jeffe\\AppData\\Local\\Packages\\PythonSoftwareFoundation.Python.3.11_qbz5n2kfra8p0\\LocalCache\\local-packages\\Python311\\site-packages\\IPython\\core\\pylabtools.py:170: UserWarning: Glyph 20284 (\\N{CJK UNIFIED IDEOGRAPH-4F3C}) missing from current font.\n",
      "  fig.canvas.print_figure(bytes_io, **kw)\n",
      "C:\\Users\\jeffe\\AppData\\Local\\Packages\\PythonSoftwareFoundation.Python.3.11_qbz5n2kfra8p0\\LocalCache\\local-packages\\Python311\\site-packages\\IPython\\core\\pylabtools.py:170: UserWarning: Glyph 24230 (\\N{CJK UNIFIED IDEOGRAPH-5EA6}) missing from current font.\n",
      "  fig.canvas.print_figure(bytes_io, **kw)\n",
      "C:\\Users\\jeffe\\AppData\\Local\\Packages\\PythonSoftwareFoundation.Python.3.11_qbz5n2kfra8p0\\LocalCache\\local-packages\\Python311\\site-packages\\IPython\\core\\pylabtools.py:170: UserWarning: Glyph 20998 (\\N{CJK UNIFIED IDEOGRAPH-5206}) missing from current font.\n",
      "  fig.canvas.print_figure(bytes_io, **kw)\n",
      "C:\\Users\\jeffe\\AppData\\Local\\Packages\\PythonSoftwareFoundation.Python.3.11_qbz5n2kfra8p0\\LocalCache\\local-packages\\Python311\\site-packages\\IPython\\core\\pylabtools.py:170: UserWarning: Glyph 25976 (\\N{CJK UNIFIED IDEOGRAPH-6578}) missing from current font.\n",
      "  fig.canvas.print_figure(bytes_io, **kw)\n",
      "C:\\Users\\jeffe\\AppData\\Local\\Packages\\PythonSoftwareFoundation.Python.3.11_qbz5n2kfra8p0\\LocalCache\\local-packages\\Python311\\site-packages\\IPython\\core\\pylabtools.py:170: UserWarning: Glyph 19981 (\\N{CJK UNIFIED IDEOGRAPH-4E0D}) missing from current font.\n",
      "  fig.canvas.print_figure(bytes_io, **kw)\n",
      "C:\\Users\\jeffe\\AppData\\Local\\Packages\\PythonSoftwareFoundation.Python.3.11_qbz5n2kfra8p0\\LocalCache\\local-packages\\Python311\\site-packages\\IPython\\core\\pylabtools.py:170: UserWarning: Glyph 21516 (\\N{CJK UNIFIED IDEOGRAPH-540C}) missing from current font.\n",
      "  fig.canvas.print_figure(bytes_io, **kw)\n",
      "C:\\Users\\jeffe\\AppData\\Local\\Packages\\PythonSoftwareFoundation.Python.3.11_qbz5n2kfra8p0\\LocalCache\\local-packages\\Python311\\site-packages\\IPython\\core\\pylabtools.py:170: UserWarning: Glyph 37327 (\\N{CJK UNIFIED IDEOGRAPH-91CF}) missing from current font.\n",
      "  fig.canvas.print_figure(bytes_io, **kw)\n",
      "C:\\Users\\jeffe\\AppData\\Local\\Packages\\PythonSoftwareFoundation.Python.3.11_qbz5n2kfra8p0\\LocalCache\\local-packages\\Python311\\site-packages\\IPython\\core\\pylabtools.py:170: UserWarning: Glyph 26041 (\\N{CJK UNIFIED IDEOGRAPH-65B9}) missing from current font.\n",
      "  fig.canvas.print_figure(bytes_io, **kw)\n",
      "C:\\Users\\jeffe\\AppData\\Local\\Packages\\PythonSoftwareFoundation.Python.3.11_qbz5n2kfra8p0\\LocalCache\\local-packages\\Python311\\site-packages\\IPython\\core\\pylabtools.py:170: UserWarning: Glyph 27861 (\\N{CJK UNIFIED IDEOGRAPH-6CD5}) missing from current font.\n",
      "  fig.canvas.print_figure(bytes_io, **kw)\n",
      "C:\\Users\\jeffe\\AppData\\Local\\Packages\\PythonSoftwareFoundation.Python.3.11_qbz5n2kfra8p0\\LocalCache\\local-packages\\Python311\\site-packages\\IPython\\core\\pylabtools.py:170: UserWarning: Glyph 30340 (\\N{CJK UNIFIED IDEOGRAPH-7684}) missing from current font.\n",
      "  fig.canvas.print_figure(bytes_io, **kw)\n",
      "C:\\Users\\jeffe\\AppData\\Local\\Packages\\PythonSoftwareFoundation.Python.3.11_qbz5n2kfra8p0\\LocalCache\\local-packages\\Python311\\site-packages\\IPython\\core\\pylabtools.py:170: UserWarning: Glyph 27604 (\\N{CJK UNIFIED IDEOGRAPH-6BD4}) missing from current font.\n",
      "  fig.canvas.print_figure(bytes_io, **kw)\n",
      "C:\\Users\\jeffe\\AppData\\Local\\Packages\\PythonSoftwareFoundation.Python.3.11_qbz5n2kfra8p0\\LocalCache\\local-packages\\Python311\\site-packages\\IPython\\core\\pylabtools.py:170: UserWarning: Glyph 36611 (\\N{CJK UNIFIED IDEOGRAPH-8F03}) missing from current font.\n",
      "  fig.canvas.print_figure(bytes_io, **kw)\n"
     ]
    },
    {
     "data": {
      "image/png": "[encoded data removed]",
      "text/plain": [
       "<Figure size 640x480 with 1 Axes>"
      ]
     },
     "metadata": {},
     "output_type": "display_data"
    },
    {
     "name": "stdout",
     "output_type": "stream",
     "text": [
      "\n",
      "詳細相似度分析 (product_name vs product_description):\n",
      "               product_name             product_description  fuzzy_similarity  \\\n",
      "4  Samsung Galaxy S21 Ultra  Samsung Galaxy S21 Ultra 256GB              0.89   \n",
      "1        Samsung Galaxy S21     Samsung Galaxy S21 5G 128GB              0.80   \n",
      "2            Google Pixel 6    Google Pixel 6 128GB Android              0.67   \n",
      "0             iPhone 13 Pro       Apple iPhone 13 Pro 128GB              0.68   \n",
      "3                 iPhone 13            Apple iPhone 13 64GB              0.62   \n",
      "\n",
      "   bert_similarity  \n",
      "4         0.823772  \n",
      "1         0.760761  \n",
      "2         0.672165  \n",
      "0         0.654997  \n",
      "3         0.601338  \n"
     ]
    }
   ],
   "source": [
    "import pandas as pd\n",
    "import numpy as np\n",
    "from fuzzywuzzy import fuzz\n",
    "from Levenshtein import ratio\n",
    "from sklearn.feature_extraction.text import TfidfVectorizer\n",
    "from sklearn.metrics.pairwise import cosine_similarity\n",
    "from sentence_transformers import SentenceTransformer\n",
    "import matplotlib.pyplot as plt\n",
    "\n",
    "# 創建範例 DataFrame\n",
    "data = {\n",
    "    'product_name': ['iPhone 13 Pro', 'Samsung Galaxy S21', 'Google Pixel 6', 'iPhone 13', 'Samsung Galaxy S21 Ultra'],\n",
    "    'product_description': ['Apple iPhone 13 Pro 128GB', 'Samsung Galaxy S21 5G 128GB', \n",
    "                           'Google Pixel 6 128GB Android', 'Apple iPhone 13 64GB', \n",
    "                           'Samsung Galaxy S21 Ultra 256GB'],\n",
    "    'search_query': ['iphone 13 pro max', 'galaxy s21', 'pixel 6 pro', 'iphone 13', 's21 ultra'],\n",
    "    'category': ['Smartphone', 'Mobile Phone', 'Cell Phone', 'Smartphone', 'Premium Phone']\n",
    "}\n",
    "\n",
    "df = pd.DataFrame(data)\n",
    "print(\"原始 DataFrame:\")\n",
    "print(df)\n",
    "print(\"\\n\")\n",
    "\n",
    "# 1. 簡單字串匹配方法\n",
    "def exact_match(col1, col2):\n",
    "    return (col1 == col2).astype(int)\n",
    "\n",
    "# 2. 使用fuzzywuzzy計算相似度\n",
    "def fuzzy_similarity(col1, col2):\n",
    "    return fuzz.ratio(str(col1), str(col2)) / 100  # 標準化到0-1範圍\n",
    "\n",
    "# 3. 使用Levenshtein距離\n",
    "def levenshtein_similarity(col1, col2):\n",
    "    return ratio(str(col1), str(col2))\n",
    "\n",
    "# 4. 使用TF-IDF + 餘弦相似度\n",
    "def setup_tfidf_similarity(df, text_columns):\n",
    "    # 合併所有文字欄位創建詞彙表\n",
    "    all_text = pd.concat([df[col] for col in text_columns]).unique()\n",
    "    vectorizer = TfidfVectorizer()\n",
    "    vectorizer.fit(all_text)\n",
    "    return vectorizer\n",
    "\n",
    "def tfidf_cosine_sim(vectorizer, text1, text2):\n",
    "    vectors = vectorizer.transform([text1, text2])\n",
    "    return cosine_similarity(vectors[0:1], vectors[1:2])[0][0]\n",
    "\n",
    "# 5. 使用Sentence Transformers (預訓練語言模型)\n",
    "def setup_bert_similarity():\n",
    "    model = SentenceTransformer('paraphrase-MiniLM-L6-v2')\n",
    "    return model\n",
    "\n",
    "def bert_cosine_sim(model, text1, text2):\n",
    "    embeddings = model.encode([str(text1), str(text2)])\n",
    "    return cosine_similarity([embeddings[0]], [embeddings[1]])[0][0]\n",
    "\n",
    "# 初始化相似度計算工具\n",
    "text_columns = ['product_name', 'product_description', 'search_query', 'category']\n",
    "tfidf_vectorizer = setup_tfidf_similarity(df, text_columns)\n",
    "bert_model = setup_bert_similarity()\n",
    "\n",
    "# 計算所有欄位組合的相似度\n",
    "column_pairs = [\n",
    "    ('product_name', 'product_description'),\n",
    "    ('product_name', 'search_query'),\n",
    "    ('product_description', 'search_query'),\n",
    "    ('product_name', 'category'),\n",
    "    ('product_description', 'category'),\n",
    "    ('search_query', 'category')\n",
    "]\n",
    "\n",
    "# 為每對欄位計算各種相似度\n",
    "results = []\n",
    "for col1, col2 in column_pairs:\n",
    "    temp_df = df[[col1, col2]].copy()\n",
    "    \n",
    "    # 計算各種相似度\n",
    "    temp_df['exact_match'] = exact_match(temp_df[col1], temp_df[col2])\n",
    "    temp_df['fuzzy_similarity'] = temp_df.apply(lambda x: fuzzy_similarity(x[col1], x[col2]), axis=1)\n",
    "    temp_df['levenshtein_similarity'] = temp_df.apply(lambda x: levenshtein_similarity(x[col1], x[col2]), axis=1)\n",
    "    temp_df['tfidf_cosine_sim'] = temp_df.apply(lambda x: tfidf_cosine_sim(tfidf_vectorizer, x[col1], x[col2]), axis=1)\n",
    "    temp_df['bert_cosine_sim'] = temp_df.apply(lambda x: bert_cosine_sim(bert_model, x[col1], x[col2]), axis=1)\n",
    "    \n",
    "    # 計算平均相似度\n",
    "    avg_scores = {\n",
    "        'column_pair': f\"{col1} vs {col2}\",\n",
    "        'exact_match': temp_df['exact_match'].mean(),\n",
    "        'fuzzy_similarity': temp_df['fuzzy_similarity'].mean(),\n",
    "        'levenshtein_similarity': temp_df['levenshtein_similarity'].mean(),\n",
    "        'tfidf_cosine_sim': temp_df['tfidf_cosine_sim'].mean(),\n",
    "        'bert_cosine_sim': temp_df['bert_cosine_sim'].mean()\n",
    "    }\n",
    "    \n",
    "    results.append(avg_scores)\n",
    "\n",
    "# 創建結果DataFrame\n",
    "result_df = pd.DataFrame(results)\n",
    "print(\"各欄位對的平均相似度:\")\n",
    "print(result_df.round(3))\n",
    "\n",
    "# 可視化結果\n",
    "plt.figure(figsize=(12, 6))\n",
    "result_df.set_index('column_pair').plot(kind='bar', rot=45)\n",
    "plt.title('不同相似度度量方法的比較')\n",
    "plt.ylabel('平均相似度分數')\n",
    "plt.tight_layout()\n",
    "plt.show()\n",
    "\n",
    "# 選取一對欄位進行詳細分析\n",
    "sample_pair = ('product_name', 'product_description')\n",
    "sample_df = df[list(sample_pair)].copy()\n",
    "sample_df['fuzzy_similarity'] = sample_df.apply(lambda x: fuzzy_similarity(x[sample_pair[0]], x[sample_pair[1]]), axis=1)\n",
    "sample_df['bert_similarity'] = sample_df.apply(lambda x: bert_cosine_sim(bert_model, x[sample_pair[0]], x[sample_pair[1]]), axis=1)\n",
    "\n",
    "print(\"\\n詳細相似度分析 (product_name vs product_description):\")\n",
    "print(sample_df.sort_values('bert_similarity', ascending=False))"
   ]
  },
  {
   "cell_type": "code",
   "execution_count": 2,
   "id": "0a0a2c6b",
   "metadata": {},
   "outputs": [
    {
     "data": {
      "application/vnd.microsoft.datawrangler.viewer.v0+json": {
       "columns": [
        {
         "name": "index",
         "rawType": "int64",
         "type": "integer"
        },
        {
         "name": "product_name",
         "rawType": "object",
         "type": "string"
        },
        {
         "name": "product_description",
         "rawType": "object",
         "type": "string"
        },
        {
         "name": "search_query",
         "rawType": "object",
         "type": "string"
        },
        {
         "name": "category",
         "rawType": "object",
         "type": "string"
        }
       ],
       "conversionMethod": "pd.DataFrame",
       "ref": "20a3373a-ff91-4d25-94b1-3a4d490270dd",
       "rows": [
        [
         "0",
         "iPhone 13 Pro",
         "Apple iPhone 13 Pro 128GB",
         "iphone 13 pro max",
         "Smartphone"
        ],
        [
         "1",
         "Samsung Galaxy S21",
         "Samsung Galaxy S21 5G 128GB",
         "galaxy s21",
         "Mobile Phone"
        ],
        [
         "2",
         "Google Pixel 6",
         "Google Pixel 6 128GB Android",
         "pixel 6 pro",
         "Cell Phone"
        ],
        [
         "3",
         "iPhone 13",
         "Apple iPhone 13 64GB",
         "iphone 13",
         "Smartphone"
        ],
        [
         "4",
         "Samsung Galaxy S21 Ultra",
         "Samsung Galaxy S21 Ultra 256GB",
         "s21 ultra",
         "Premium Phone"
        ]
       ],
       "shape": {
        "columns": 4,
        "rows": 5
       }
      },
      "text/html": [
       "<div>\n",
       "<style scoped>\n",
       "    .dataframe tbody tr th:only-of-type {\n",
       "        vertical-align: middle;\n",
       "    }\n",
       "\n",
       "    .dataframe tbody tr th {\n",
       "        vertical-align: top;\n",
       "    }\n",
       "\n",
       "    .dataframe thead th {\n",
       "        text-align: right;\n",
       "    }\n",
       "</style>\n",
       "<table border=\"1\" class=\"dataframe\">\n",
       "  <thead>\n",
       "    <tr style=\"text-align: right;\">\n",
       "      <th></th>\n",
       "      <th>product_name</th>\n",
       "      <th>product_description</th>\n",
       "      <th>search_query</th>\n",
       "      <th>category</th>\n",
       "    </tr>\n",
       "  </thead>\n",
       "  <tbody>\n",
       "    <tr>\n",
       "      <th>0</th>\n",
       "      <td>iPhone 13 Pro</td>\n",
       "      <td>Apple iPhone 13 Pro 128GB</td>\n",
       "      <td>iphone 13 pro max</td>\n",
       "      <td>Smartphone</td>\n",
       "    </tr>\n",
       "    <tr>\n",
       "      <th>1</th>\n",
       "      <td>Samsung Galaxy S21</td>\n",
       "      <td>Samsung Galaxy S21 5G 128GB</td>\n",
       "      <td>galaxy s21</td>\n",
       "      <td>Mobile Phone</td>\n",
       "    </tr>\n",
       "    <tr>\n",
       "      <th>2</th>\n",
       "      <td>Google Pixel 6</td>\n",
       "      <td>Google Pixel 6 128GB Android</td>\n",
       "      <td>pixel 6 pro</td>\n",
       "      <td>Cell Phone</td>\n",
       "    </tr>\n",
       "    <tr>\n",
       "      <th>3</th>\n",
       "      <td>iPhone 13</td>\n",
       "      <td>Apple iPhone 13 64GB</td>\n",
       "      <td>iphone 13</td>\n",
       "      <td>Smartphone</td>\n",
       "    </tr>\n",
       "    <tr>\n",
       "      <th>4</th>\n",
       "      <td>Samsung Galaxy S21 Ultra</td>\n",
       "      <td>Samsung Galaxy S21 Ultra 256GB</td>\n",
       "      <td>s21 ultra</td>\n",
       "      <td>Premium Phone</td>\n",
       "    </tr>\n",
       "  </tbody>\n",
       "</table>\n",
       "</div>"
      ],
      "text/plain": [
       "               product_name             product_description  \\\n",
       "0             iPhone 13 Pro       Apple iPhone 13 Pro 128GB   \n",
       "1        Samsung Galaxy S21     Samsung Galaxy S21 5G 128GB   \n",
       "2            Google Pixel 6    Google Pixel 6 128GB Android   \n",
       "3                 iPhone 13            Apple iPhone 13 64GB   \n",
       "4  Samsung Galaxy S21 Ultra  Samsung Galaxy S21 Ultra 256GB   \n",
       "\n",
       "        search_query       category  \n",
       "0  iphone 13 pro max     Smartphone  \n",
       "1         galaxy s21   Mobile Phone  \n",
       "2        pixel 6 pro     Cell Phone  \n",
       "3          iphone 13     Smartphone  \n",
       "4          s21 ultra  Premium Phone  "
      ]
     },
     "execution_count": 2,
     "metadata": {},
     "output_type": "execute_result"
    }
   ],
   "source": [
    "\n",
    "df"
   ]
  },
  {
   "cell_type": "code",
   "execution_count": 4,
   "id": "f2271555",
   "metadata": {},
   "outputs": [
    {
     "data": {
      "application/vnd.microsoft.datawrangler.viewer.v0+json": {
       "columns": [
        {
         "name": "index",
         "rawType": "int64",
         "type": "integer"
        },
        {
         "name": "column_pair",
         "rawType": "object",
         "type": "string"
        },
        {
         "name": "exact_match",
         "rawType": "float64",
         "type": "float"
        },
        {
         "name": "fuzzy_similarity",
         "rawType": "float64",
         "type": "float"
        },
        {
         "name": "levenshtein_similarity",
         "rawType": "float64",
         "type": "float"
        },
        {
         "name": "tfidf_cosine_sim",
         "rawType": "float64",
         "type": "float"
        },
        {
         "name": "bert_cosine_sim",
         "rawType": "float32",
         "type": "float"
        }
       ],
       "conversionMethod": "pd.DataFrame",
       "ref": "95b38d6d-a0f8-480e-8331-f278a8aa38f6",
       "rows": [
        [
         "0",
         "product_name vs product_description",
         "0.0",
         "0.732",
         "0.7320911474087517",
         "0.6825946584815213",
         "0.7026065"
        ],
        [
         "1",
         "product_name vs search_query",
         "0.0",
         "0.644",
         "0.64598556998557",
         "0.7485890159511345",
         "0.8458006"
        ],
        [
         "2",
         "product_description vs search_query",
         "0.0",
         "0.4960000000000001",
         "0.4962868135281929",
         "0.5035535149331074",
         "0.61483675"
        ],
        [
         "3",
         "product_name vs category",
         "0.0",
         "0.27799999999999997",
         "0.2795415094728596",
         "0.0",
         "0.42733335"
        ],
        [
         "4",
         "product_description vs category",
         "0.0",
         "0.21399999999999997",
         "0.21433458422442514",
         "0.0",
         "0.31887746"
        ],
        [
         "5",
         "search_query vs category",
         "0.0",
         "0.31",
         "0.3100731627047416",
         "0.0",
         "0.34270686"
        ]
       ],
       "shape": {
        "columns": 6,
        "rows": 6
       }
      },
      "text/html": [
       "<div>\n",
       "<style scoped>\n",
       "    .dataframe tbody tr th:only-of-type {\n",
       "        vertical-align: middle;\n",
       "    }\n",
       "\n",
       "    .dataframe tbody tr th {\n",
       "        vertical-align: top;\n",
       "    }\n",
       "\n",
       "    .dataframe thead th {\n",
       "        text-align: right;\n",
       "    }\n",
       "</style>\n",
       "<table border=\"1\" class=\"dataframe\">\n",
       "  <thead>\n",
       "    <tr style=\"text-align: right;\">\n",
       "      <th></th>\n",
       "      <th>column_pair</th>\n",
       "      <th>exact_match</th>\n",
       "      <th>fuzzy_similarity</th>\n",
       "      <th>levenshtein_similarity</th>\n",
       "      <th>tfidf_cosine_sim</th>\n",
       "      <th>bert_cosine_sim</th>\n",
       "    </tr>\n",
       "  </thead>\n",
       "  <tbody>\n",
       "    <tr>\n",
       "      <th>0</th>\n",
       "      <td>product_name vs product_description</td>\n",
       "      <td>0.0</td>\n",
       "      <td>0.732</td>\n",
       "      <td>0.732091</td>\n",
       "      <td>0.682595</td>\n",
       "      <td>0.702606</td>\n",
       "    </tr>\n",
       "    <tr>\n",
       "      <th>1</th>\n",
       "      <td>product_name vs search_query</td>\n",
       "      <td>0.0</td>\n",
       "      <td>0.644</td>\n",
       "      <td>0.645986</td>\n",
       "      <td>0.748589</td>\n",
       "      <td>0.845801</td>\n",
       "    </tr>\n",
       "    <tr>\n",
       "      <th>2</th>\n",
       "      <td>product_description vs search_query</td>\n",
       "      <td>0.0</td>\n",
       "      <td>0.496</td>\n",
       "      <td>0.496287</td>\n",
       "      <td>0.503554</td>\n",
       "      <td>0.614837</td>\n",
       "    </tr>\n",
       "    <tr>\n",
       "      <th>3</th>\n",
       "      <td>product_name vs category</td>\n",
       "      <td>0.0</td>\n",
       "      <td>0.278</td>\n",
       "      <td>0.279542</td>\n",
       "      <td>0.000000</td>\n",
       "      <td>0.427333</td>\n",
       "    </tr>\n",
       "    <tr>\n",
       "      <th>4</th>\n",
       "      <td>product_description vs category</td>\n",
       "      <td>0.0</td>\n",
       "      <td>0.214</td>\n",
       "      <td>0.214335</td>\n",
       "      <td>0.000000</td>\n",
       "      <td>0.318877</td>\n",
       "    </tr>\n",
       "    <tr>\n",
       "      <th>5</th>\n",
       "      <td>search_query vs category</td>\n",
       "      <td>0.0</td>\n",
       "      <td>0.310</td>\n",
       "      <td>0.310073</td>\n",
       "      <td>0.000000</td>\n",
       "      <td>0.342707</td>\n",
       "    </tr>\n",
       "  </tbody>\n",
       "</table>\n",
       "</div>"
      ],
      "text/plain": [
       "                           column_pair  exact_match  fuzzy_similarity  \\\n",
       "0  product_name vs product_description          0.0             0.732   \n",
       "1         product_name vs search_query          0.0             0.644   \n",
       "2  product_description vs search_query          0.0             0.496   \n",
       "3             product_name vs category          0.0             0.278   \n",
       "4      product_description vs category          0.0             0.214   \n",
       "5             search_query vs category          0.0             0.310   \n",
       "\n",
       "   levenshtein_similarity  tfidf_cosine_sim  bert_cosine_sim  \n",
       "0                0.732091          0.682595         0.702606  \n",
       "1                0.645986          0.748589         0.845801  \n",
       "2                0.496287          0.503554         0.614837  \n",
       "3                0.279542          0.000000         0.427333  \n",
       "4                0.214335          0.000000         0.318877  \n",
       "5                0.310073          0.000000         0.342707  "
      ]
     },
     "execution_count": 4,
     "metadata": {},
     "output_type": "execute_result"
    }
   ],
   "source": [
    "result_df"
   ]
  },
  {
   "cell_type": "code",
   "execution_count": null,
   "id": "f9fae51b",
   "metadata": {},
   "outputs": [
    {
     "name": "stdout",
     "output_type": "stream",
     "text": [
      "Collecting fuzzywuzzy\n",
      "  Downloading fuzzywuzzy-0.18.0-py2.py3-none-any.whl.metadata (4.9 kB)\n",
      "Downloading fuzzywuzzy-0.18.0-py2.py3-none-any.whl (18 kB)\n",
      "Installing collected packages: fuzzywuzzy\n",
      "Successfully installed fuzzywuzzy-0.18.0\n",
      "Note: you may need to restart the kernel to use updated packages.\n"
     ]
    },
    {
     "name": "stderr",
     "output_type": "stream",
     "text": [
      "\n",
      "[notice] A new release of pip is available: 25.0.1 -> 25.1.1\n",
      "[notice] To update, run: C:\\Users\\jeffe\\AppData\\Local\\Microsoft\\WindowsApps\\PythonSoftwareFoundation.Python.3.11_qbz5n2kfra8p0\\python.exe -m pip install --upgrade pip\n"
     ]
    }
   ],
   "source": [
    "# pip install fuzzywuzzy"
   ]
  },
  {
   "cell_type": "code",
   "execution_count": null,
   "id": "5aa61ef7",
   "metadata": {},
   "outputs": [
    {
     "name": "stdout",
     "output_type": "stream",
     "text": [
      "Collecting python-LevenshteinNote: you may need to restart the kernel to use updated packages.\n",
      "\n",
      "  Downloading python_levenshtein-0.27.1-py3-none-any.whl.metadata (3.7 kB)\n",
      "Collecting Levenshtein==0.27.1 (from python-Levenshtein)\n",
      "  Downloading levenshtein-0.27.1-cp311-cp311-win_amd64.whl.metadata (3.6 kB)\n",
      "Collecting rapidfuzz<4.0.0,>=3.9.0 (from Levenshtein==0.27.1->python-Levenshtein)\n",
      "  Downloading rapidfuzz-3.13.0-cp311-cp311-win_amd64.whl.metadata (12 kB)\n",
      "Downloading python_levenshtein-0.27.1-py3-none-any.whl (9.4 kB)\n",
      "Downloading levenshtein-0.27.1-cp311-cp311-win_amd64.whl (100 kB)\n",
      "Downloading rapidfuzz-3.13.0-cp311-cp311-win_amd64.whl (1.6 MB)\n",
      "   ---------------------------------------- 0.0/1.6 MB ? eta -:--:--\n",
      "   ---------------------------------------- 0.0/1.6 MB ? eta -:--:--\n",
      "   ------ --------------------------------- 0.3/1.6 MB ? eta -:--:--\n",
      "   ------------ --------------------------- 0.5/1.6 MB 840.2 kB/s eta 0:00:02\n",
      "   ------------ --------------------------- 0.5/1.6 MB 840.2 kB/s eta 0:00:02\n",
      "   ------------------- -------------------- 0.8/1.6 MB 860.9 kB/s eta 0:00:01\n",
      "   ------------------- -------------------- 0.8/1.6 MB 860.9 kB/s eta 0:00:01\n",
      "   ------------------------- -------------- 1.0/1.6 MB 774.8 kB/s eta 0:00:01\n",
      "   ------------------------- -------------- 1.0/1.6 MB 774.8 kB/s eta 0:00:01\n",
      "   -------------------------------- ------- 1.3/1.6 MB 745.8 kB/s eta 0:00:01\n",
      "   ---------------------------------------- 1.6/1.6 MB 796.2 kB/s eta 0:00:00\n",
      "Installing collected packages: rapidfuzz, Levenshtein, python-Levenshtein\n",
      "Successfully installed Levenshtein-0.27.1 python-Levenshtein-0.27.1 rapidfuzz-3.13.0\n"
     ]
    },
    {
     "name": "stderr",
     "output_type": "stream",
     "text": [
      "\n",
      "[notice] A new release of pip is available: 25.0.1 -> 25.1.1\n",
      "[notice] To update, run: C:\\Users\\jeffe\\AppData\\Local\\Microsoft\\WindowsApps\\PythonSoftwareFoundation.Python.3.11_qbz5n2kfra8p0\\python.exe -m pip install --upgrade pip\n"
     ]
    }
   ],
   "source": [
    "\n",
    "# pip install python-Levenshtein    "
   ]
  },
  {
   "cell_type": "code",
   "execution_count": null,
   "id": "c16a62ce",
   "metadata": {},
   "outputs": [
    {
     "name": "stdout",
     "output_type": "stream",
     "text": [
      "Collecting sentence-transformers\n",
      "  Downloading sentence_transformers-4.1.0-py3-none-any.whl.metadata (13 kB)\n",
      "Collecting transformers<5.0.0,>=4.41.0 (from sentence-transformers)\n",
      "  Downloading transformers-4.51.3-py3-none-any.whl.metadata (38 kB)\n",
      "Requirement already satisfied: tqdm in c:\\users\\jeffe\\appdata\\local\\packages\\pythonsoftwarefoundation.python.3.11_qbz5n2kfra8p0\\localcache\\local-packages\\python311\\site-packages (from sentence-transformers) (4.67.0)\n",
      "Requirement already satisfied: torch>=1.11.0 in c:\\users\\jeffe\\appdata\\local\\packages\\pythonsoftwarefoundation.python.3.11_qbz5n2kfra8p0\\localcache\\local-packages\\python311\\site-packages (from sentence-transformers) (2.5.1)\n",
      "Requirement already satisfied: scikit-learn in c:\\users\\jeffe\\appdata\\local\\packages\\pythonsoftwarefoundation.python.3.11_qbz5n2kfra8p0\\localcache\\local-packages\\python311\\site-packages (from sentence-transformers) (1.6.1)\n",
      "Requirement already satisfied: scipy in c:\\users\\jeffe\\appdata\\local\\packages\\pythonsoftwarefoundation.python.3.11_qbz5n2kfra8p0\\localcache\\local-packages\\python311\\site-packages (from sentence-transformers) (1.11.2)\n",
      "Requirement already satisfied: huggingface-hub>=0.20.0 in c:\\users\\jeffe\\appdata\\local\\packages\\pythonsoftwarefoundation.python.3.11_qbz5n2kfra8p0\\localcache\\local-packages\\python311\\site-packages (from sentence-transformers) (0.26.2)\n",
      "Requirement already satisfied: Pillow in c:\\users\\jeffe\\appdata\\local\\packages\\pythonsoftwarefoundation.python.3.11_qbz5n2kfra8p0\\localcache\\local-packages\\python311\\site-packages (from sentence-transformers) (10.0.0)\n",
      "Requirement already satisfied: typing_extensions>=4.5.0 in c:\\users\\jeffe\\appdata\\local\\packages\\pythonsoftwarefoundation.python.3.11_qbz5n2kfra8p0\\localcache\\local-packages\\python311\\site-packages (from sentence-transformers) (4.12.2)\n",
      "Requirement already satisfied: filelock in c:\\users\\jeffe\\appdata\\local\\packages\\pythonsoftwarefoundation.python.3.11_qbz5n2kfra8p0\\localcache\\local-packages\\python311\\site-packages (from huggingface-hub>=0.20.0->sentence-transformers) (3.16.1)\n",
      "Requirement already satisfied: fsspec>=2023.5.0 in c:\\users\\jeffe\\appdata\\local\\packages\\pythonsoftwarefoundation.python.3.11_qbz5n2kfra8p0\\localcache\\local-packages\\python311\\site-packages (from huggingface-hub>=0.20.0->sentence-transformers) (2024.10.0)\n",
      "Requirement already satisfied: packaging>=20.9 in c:\\users\\jeffe\\appdata\\local\\packages\\pythonsoftwarefoundation.python.3.11_qbz5n2kfra8p0\\localcache\\local-packages\\python311\\site-packages (from huggingface-hub>=0.20.0->sentence-transformers) (24.2)\n",
      "Requirement already satisfied: pyyaml>=5.1 in c:\\users\\jeffe\\appdata\\local\\packages\\pythonsoftwarefoundation.python.3.11_qbz5n2kfra8p0\\localcache\\local-packages\\python311\\site-packages (from huggingface-hub>=0.20.0->sentence-transformers) (6.0.2)\n",
      "Requirement already satisfied: requests in c:\\users\\jeffe\\appdata\\local\\packages\\pythonsoftwarefoundation.python.3.11_qbz5n2kfra8p0\\localcache\\local-packages\\python311\\site-packages (from huggingface-hub>=0.20.0->sentence-transformers) (2.31.0)\n",
      "Requirement already satisfied: networkx in c:\\users\\jeffe\\appdata\\local\\packages\\pythonsoftwarefoundation.python.3.11_qbz5n2kfra8p0\\localcache\\local-packages\\python311\\site-packages (from torch>=1.11.0->sentence-transformers) (3.4.2)\n",
      "Requirement already satisfied: jinja2 in c:\\users\\jeffe\\appdata\\local\\packages\\pythonsoftwarefoundation.python.3.11_qbz5n2kfra8p0\\localcache\\local-packages\\python311\\site-packages (from torch>=1.11.0->sentence-transformers) (3.1.4)\n",
      "Requirement already satisfied: sympy==1.13.1 in c:\\users\\jeffe\\appdata\\local\\packages\\pythonsoftwarefoundation.python.3.11_qbz5n2kfra8p0\\localcache\\local-packages\\python311\\site-packages (from torch>=1.11.0->sentence-transformers) (1.13.1)\n",
      "Requirement already satisfied: mpmath<1.4,>=1.1.0 in c:\\users\\jeffe\\appdata\\local\\packages\\pythonsoftwarefoundation.python.3.11_qbz5n2kfra8p0\\localcache\\local-packages\\python311\\site-packages (from sympy==1.13.1->torch>=1.11.0->sentence-transformers) (1.3.0)\n",
      "Requirement already satisfied: colorama in c:\\users\\jeffe\\appdata\\local\\packages\\pythonsoftwarefoundation.python.3.11_qbz5n2kfra8p0\\localcache\\local-packages\\python311\\site-packages (from tqdm->sentence-transformers) (0.4.6)\n",
      "Collecting huggingface-hub>=0.20.0 (from sentence-transformers)\n",
      "  Downloading huggingface_hub-0.31.2-py3-none-any.whl.metadata (13 kB)\n",
      "Requirement already satisfied: numpy>=1.17 in c:\\users\\jeffe\\appdata\\local\\packages\\pythonsoftwarefoundation.python.3.11_qbz5n2kfra8p0\\localcache\\local-packages\\python311\\site-packages (from transformers<5.0.0,>=4.41.0->sentence-transformers) (1.26.4)\n",
      "Requirement already satisfied: regex!=2019.12.17 in c:\\users\\jeffe\\appdata\\local\\packages\\pythonsoftwarefoundation.python.3.11_qbz5n2kfra8p0\\localcache\\local-packages\\python311\\site-packages (from transformers<5.0.0,>=4.41.0->sentence-transformers) (2024.11.6)\n",
      "Collecting tokenizers<0.22,>=0.21 (from transformers<5.0.0,>=4.41.0->sentence-transformers)\n",
      "  Downloading tokenizers-0.21.1-cp39-abi3-win_amd64.whl.metadata (6.9 kB)\n",
      "Requirement already satisfied: safetensors>=0.4.3 in c:\\users\\jeffe\\appdata\\local\\packages\\pythonsoftwarefoundation.python.3.11_qbz5n2kfra8p0\\localcache\\local-packages\\python311\\site-packages (from transformers<5.0.0,>=4.41.0->sentence-transformers) (0.4.5)\n",
      "Requirement already satisfied: joblib>=1.2.0 in c:\\users\\jeffe\\appdata\\local\\packages\\pythonsoftwarefoundation.python.3.11_qbz5n2kfra8p0\\localcache\\local-packages\\python311\\site-packages (from scikit-learn->sentence-transformers) (1.4.2)\n",
      "Requirement already satisfied: threadpoolctl>=3.1.0 in c:\\users\\jeffe\\appdata\\local\\packages\\pythonsoftwarefoundation.python.3.11_qbz5n2kfra8p0\\localcache\\local-packages\\python311\\site-packages (from scikit-learn->sentence-transformers) (3.5.0)\n",
      "Requirement already satisfied: MarkupSafe>=2.0 in c:\\users\\jeffe\\appdata\\local\\packages\\pythonsoftwarefoundation.python.3.11_qbz5n2kfra8p0\\localcache\\local-packages\\python311\\site-packages (from jinja2->torch>=1.11.0->sentence-transformers) (3.0.2)\n",
      "Requirement already satisfied: charset-normalizer<4,>=2 in c:\\users\\jeffe\\appdata\\local\\packages\\pythonsoftwarefoundation.python.3.11_qbz5n2kfra8p0\\localcache\\local-packages\\python311\\site-packages (from requests->huggingface-hub>=0.20.0->sentence-transformers) (3.4.0)\n",
      "Requirement already satisfied: idna<4,>=2.5 in c:\\users\\jeffe\\appdata\\local\\packages\\pythonsoftwarefoundation.python.3.11_qbz5n2kfra8p0\\localcache\\local-packages\\python311\\site-packages (from requests->huggingface-hub>=0.20.0->sentence-transformers) (3.10)\n",
      "Requirement already satisfied: urllib3<3,>=1.21.1 in c:\\users\\jeffe\\appdata\\local\\packages\\pythonsoftwarefoundation.python.3.11_qbz5n2kfra8p0\\localcache\\local-packages\\python311\\site-packages (from requests->huggingface-hub>=0.20.0->sentence-transformers) (2.2.3)\n",
      "Requirement already satisfied: certifi>=2017.4.17 in c:\\users\\jeffe\\appdata\\local\\packages\\pythonsoftwarefoundation.python.3.11_qbz5n2kfra8p0\\localcache\\local-packages\\python311\\site-packages (from requests->huggingface-hub>=0.20.0->sentence-transformers) (2024.8.30)\n",
      "Downloading sentence_transformers-4.1.0-py3-none-any.whl (345 kB)\n",
      "Downloading transformers-4.51.3-py3-none-any.whl (10.4 MB)\n",
      "   ---------------------------------------- 0.0/10.4 MB ? eta -:--:--\n",
      "   - -------------------------------------- 0.3/10.4 MB ? eta -:--:--\n",
      "   - -------------------------------------- 0.3/10.4 MB ? eta -:--:--\n",
      "   -- ------------------------------------- 0.5/10.4 MB 882.6 kB/s eta 0:00:12\n",
      "   -- ------------------------------------- 0.5/10.4 MB 882.6 kB/s eta 0:00:12\n",
      "   --- ------------------------------------ 0.8/10.4 MB 762.0 kB/s eta 0:00:13\n",
      "   --- ------------------------------------ 0.8/10.4 MB 762.0 kB/s eta 0:00:13\n",
      "   ---- ----------------------------------- 1.0/10.4 MB 718.9 kB/s eta 0:00:13\n",
      "   ----- ---------------------------------- 1.3/10.4 MB 753.8 kB/s eta 0:00:13\n",
      "   ------ --------------------------------- 1.6/10.4 MB 769.7 kB/s eta 0:00:12\n",
      "   ------ --------------------------------- 1.6/10.4 MB 769.7 kB/s eta 0:00:12\n",
      "   ------- -------------------------------- 1.8/10.4 MB 786.4 kB/s eta 0:00:11\n",
      "   -------- ------------------------------- 2.1/10.4 MB 798.9 kB/s eta 0:00:11\n",
      "   -------- ------------------------------- 2.1/10.4 MB 798.9 kB/s eta 0:00:11\n",
      "   --------- ------------------------------ 2.4/10.4 MB 808.5 kB/s eta 0:00:10\n",
      "   ---------- ----------------------------- 2.6/10.4 MB 816.1 kB/s eta 0:00:10\n",
      "   ----------- ---------------------------- 2.9/10.4 MB 818.4 kB/s eta 0:00:10\n",
      "   ----------- ---------------------------- 2.9/10.4 MB 818.4 kB/s eta 0:00:10\n",
      "   ----------- ---------------------------- 2.9/10.4 MB 818.4 kB/s eta 0:00:10\n",
      "   ------------ --------------------------- 3.1/10.4 MB 778.7 kB/s eta 0:00:10\n",
      "   ------------ --------------------------- 3.1/10.4 MB 778.7 kB/s eta 0:00:10\n",
      "   ------------- -------------------------- 3.4/10.4 MB 768.4 kB/s eta 0:00:10\n",
      "   ------------- -------------------------- 3.4/10.4 MB 768.4 kB/s eta 0:00:10\n",
      "   ------------- -------------------------- 3.4/10.4 MB 768.4 kB/s eta 0:00:10\n",
      "   -------------- ------------------------- 3.7/10.4 MB 710.4 kB/s eta 0:00:10\n",
      "   -------------- ------------------------- 3.7/10.4 MB 710.4 kB/s eta 0:00:10\n",
      "   -------------- ------------------------- 3.7/10.4 MB 710.4 kB/s eta 0:00:10\n",
      "   -------------- ------------------------- 3.7/10.4 MB 710.4 kB/s eta 0:00:10\n",
      "   --------------- ------------------------ 3.9/10.4 MB 648.9 kB/s eta 0:00:10\n",
      "   --------------- ------------------------ 3.9/10.4 MB 648.9 kB/s eta 0:00:10\n",
      "   --------------- ------------------------ 3.9/10.4 MB 648.9 kB/s eta 0:00:10\n",
      "   --------------- ------------------------ 3.9/10.4 MB 648.9 kB/s eta 0:00:10\n",
      "   ---------------- ----------------------- 4.2/10.4 MB 606.4 kB/s eta 0:00:11\n",
      "   ---------------- ----------------------- 4.2/10.4 MB 606.4 kB/s eta 0:00:11\n",
      "   ---------------- ----------------------- 4.2/10.4 MB 606.4 kB/s eta 0:00:11\n",
      "   ---------------- ----------------------- 4.2/10.4 MB 606.4 kB/s eta 0:00:11\n",
      "   ---------------- ----------------------- 4.2/10.4 MB 606.4 kB/s eta 0:00:11\n",
      "   ---------------- ----------------------- 4.2/10.4 MB 606.4 kB/s eta 0:00:11\n",
      "   ----------------- ---------------------- 4.5/10.4 MB 537.9 kB/s eta 0:00:12\n",
      "   ----------------- ---------------------- 4.5/10.4 MB 537.9 kB/s eta 0:00:12\n",
      "   ----------------- ---------------------- 4.5/10.4 MB 537.9 kB/s eta 0:00:12\n",
      "   ----------------- ---------------------- 4.5/10.4 MB 537.9 kB/s eta 0:00:12\n",
      "   ----------------- ---------------------- 4.5/10.4 MB 537.9 kB/s eta 0:00:12\n",
      "   ------------------ --------------------- 4.7/10.4 MB 501.2 kB/s eta 0:00:12\n",
      "   ------------------ --------------------- 4.7/10.4 MB 501.2 kB/s eta 0:00:12\n",
      "   ------------------ --------------------- 4.7/10.4 MB 501.2 kB/s eta 0:00:12\n",
      "   ------------------ --------------------- 4.7/10.4 MB 501.2 kB/s eta 0:00:12\n",
      "   ------------------ --------------------- 4.7/10.4 MB 501.2 kB/s eta 0:00:12\n",
      "   ------------------- -------------------- 5.0/10.4 MB 480.9 kB/s eta 0:00:12\n",
      "   ------------------- -------------------- 5.0/10.4 MB 480.9 kB/s eta 0:00:12\n",
      "   ------------------- -------------------- 5.0/10.4 MB 480.9 kB/s eta 0:00:12\n",
      "   ------------------- -------------------- 5.0/10.4 MB 480.9 kB/s eta 0:00:12\n",
      "   -------------------- ------------------- 5.2/10.4 MB 461.3 kB/s eta 0:00:12\n",
      "   -------------------- ------------------- 5.2/10.4 MB 461.3 kB/s eta 0:00:12\n",
      "   -------------------- ------------------- 5.2/10.4 MB 461.3 kB/s eta 0:00:12\n",
      "   -------------------- ------------------- 5.2/10.4 MB 461.3 kB/s eta 0:00:12\n",
      "   -------------------- ------------------- 5.2/10.4 MB 461.3 kB/s eta 0:00:12\n",
      "   --------------------- ------------------ 5.5/10.4 MB 448.0 kB/s eta 0:00:11\n",
      "   --------------------- ------------------ 5.5/10.4 MB 448.0 kB/s eta 0:00:11\n",
      "   --------------------- ------------------ 5.5/10.4 MB 448.0 kB/s eta 0:00:11\n",
      "   --------------------- ------------------ 5.5/10.4 MB 448.0 kB/s eta 0:00:11\n",
      "   --------------------- ------------------ 5.5/10.4 MB 448.0 kB/s eta 0:00:11\n",
      "   ---------------------- ----------------- 5.8/10.4 MB 430.2 kB/s eta 0:00:11\n",
      "   ---------------------- ----------------- 5.8/10.4 MB 430.2 kB/s eta 0:00:11\n",
      "   ---------------------- ----------------- 5.8/10.4 MB 430.2 kB/s eta 0:00:11\n",
      "   ---------------------- ----------------- 5.8/10.4 MB 430.2 kB/s eta 0:00:11\n",
      "   ----------------------- ---------------- 6.0/10.4 MB 422.3 kB/s eta 0:00:11\n",
      "   ----------------------- ---------------- 6.0/10.4 MB 422.3 kB/s eta 0:00:11\n",
      "   ----------------------- ---------------- 6.0/10.4 MB 422.3 kB/s eta 0:00:11\n",
      "   ------------------------ --------------- 6.3/10.4 MB 421.7 kB/s eta 0:00:10\n",
      "   ------------------------ --------------- 6.3/10.4 MB 421.7 kB/s eta 0:00:10\n",
      "   ------------------------ --------------- 6.3/10.4 MB 421.7 kB/s eta 0:00:10\n",
      "   ------------------------ --------------- 6.3/10.4 MB 421.7 kB/s eta 0:00:10\n",
      "   ------------------------- -------------- 6.6/10.4 MB 419.4 kB/s eta 0:00:10\n",
      "   ------------------------- -------------- 6.6/10.4 MB 419.4 kB/s eta 0:00:10\n",
      "   -------------------------- ------------- 6.8/10.4 MB 422.8 kB/s eta 0:00:09\n",
      "   -------------------------- ------------- 6.8/10.4 MB 422.8 kB/s eta 0:00:09\n",
      "   -------------------------- ------------- 6.8/10.4 MB 422.8 kB/s eta 0:00:09\n",
      "   --------------------------- ------------ 7.1/10.4 MB 423.5 kB/s eta 0:00:08\n",
      "   --------------------------- ------------ 7.1/10.4 MB 423.5 kB/s eta 0:00:08\n",
      "   ---------------------------- ----------- 7.3/10.4 MB 426.5 kB/s eta 0:00:08\n",
      "   ---------------------------- ----------- 7.3/10.4 MB 426.5 kB/s eta 0:00:08\n",
      "   ----------------------------- ---------- 7.6/10.4 MB 431.8 kB/s eta 0:00:07\n",
      "   ----------------------------- ---------- 7.6/10.4 MB 431.8 kB/s eta 0:00:07\n",
      "   ------------------------------ --------- 7.9/10.4 MB 436.8 kB/s eta 0:00:06\n",
      "   ------------------------------ --------- 7.9/10.4 MB 436.8 kB/s eta 0:00:06\n",
      "   ------------------------------- -------- 8.1/10.4 MB 440.7 kB/s eta 0:00:06\n",
      "   ------------------------------- -------- 8.1/10.4 MB 440.7 kB/s eta 0:00:06\n",
      "   -------------------------------- ------- 8.4/10.4 MB 446.4 kB/s eta 0:00:05\n",
      "   -------------------------------- ------- 8.4/10.4 MB 446.4 kB/s eta 0:00:05\n",
      "   --------------------------------- ------ 8.7/10.4 MB 451.1 kB/s eta 0:00:04\n",
      "   --------------------------------- ------ 8.7/10.4 MB 451.1 kB/s eta 0:00:04\n",
      "   ----------------------------------- ---- 9.2/10.4 MB 466.4 kB/s eta 0:00:03\n",
      "   ----------------------------------- ---- 9.2/10.4 MB 466.4 kB/s eta 0:00:03\n",
      "   ------------------------------------ --- 9.4/10.4 MB 472.8 kB/s eta 0:00:03\n",
      "   ------------------------------------ --- 9.4/10.4 MB 472.8 kB/s eta 0:00:03\n",
      "   ------------------------------------- -- 9.7/10.4 MB 476.7 kB/s eta 0:00:02\n",
      "   -------------------------------------- - 10.0/10.4 MB 482.7 kB/s eta 0:00:01\n",
      "   -------------------------------------- - 10.0/10.4 MB 482.7 kB/s eta 0:00:01\n",
      "   ---------------------------------------- 10.4/10.4 MB 493.0 kB/s eta 0:00:00\n",
      "Downloading huggingface_hub-0.31.2-py3-none-any.whl (484 kB)\n",
      "Downloading tokenizers-0.21.1-cp39-abi3-win_amd64.whl (2.4 MB)\n",
      "   ---------------------------------------- 0.0/2.4 MB ? eta -:--:--\n",
      "   ---------------------------------------- 0.0/2.4 MB ? eta -:--:--\n",
      "   ---- ----------------------------------- 0.3/2.4 MB ? eta -:--:--\n",
      "   -------- ------------------------------- 0.5/2.4 MB 882.6 kB/s eta 0:00:03\n",
      "   ------------ --------------------------- 0.8/2.4 MB 1.0 MB/s eta 0:00:02\n",
      "   ------------ --------------------------- 0.8/2.4 MB 1.0 MB/s eta 0:00:02\n",
      "   ----------------- ---------------------- 1.0/2.4 MB 986.7 kB/s eta 0:00:02\n",
      "   --------------------- ------------------ 1.3/2.4 MB 958.5 kB/s eta 0:00:02\n",
      "   --------------------- ------------------ 1.3/2.4 MB 958.5 kB/s eta 0:00:02\n",
      "   ------------------------- -------------- 1.6/2.4 MB 942.3 kB/s eta 0:00:01\n",
      "   ------------------------------ --------- 1.8/2.4 MB 986.7 kB/s eta 0:00:01\n",
      "   ---------------------------------- ----- 2.1/2.4 MB 917.5 kB/s eta 0:00:01\n",
      "   ---------------------------------- ----- 2.1/2.4 MB 917.5 kB/s eta 0:00:01\n",
      "   -------------------------------------- - 2.4/2.4 MB 877.1 kB/s eta 0:00:01\n",
      "   ---------------------------------------- 2.4/2.4 MB 897.3 kB/s eta 0:00:00\n",
      "Installing collected packages: huggingface-hub, tokenizers, transformers, sentence-transformers\n",
      "  Attempting uninstall: huggingface-hub\n",
      "    Found existing installation: huggingface-hub 0.26.2\n",
      "    Uninstalling huggingface-hub-0.26.2:\n",
      "      Successfully uninstalled huggingface-hub-0.26.2\n",
      "  Attempting uninstall: tokenizers\n",
      "    Found existing installation: tokenizers 0.13.3\n",
      "    Uninstalling tokenizers-0.13.3:\n",
      "      Successfully uninstalled tokenizers-0.13.3\n",
      "Successfully installed huggingface-hub-0.31.2 sentence-transformers-4.1.0 tokenizers-0.21.1 transformers-4.51.3\n",
      "Note: you may need to restart the kernel to use updated packages.\n"
     ]
    },
    {
     "name": "stderr",
     "output_type": "stream",
     "text": [
      "\n",
      "[notice] A new release of pip is available: 25.0.1 -> 25.1.1\n",
      "[notice] To update, run: C:\\Users\\jeffe\\AppData\\Local\\Microsoft\\WindowsApps\\PythonSoftwareFoundation.Python.3.11_qbz5n2kfra8p0\\python.exe -m pip install --upgrade pip\n"
     ]
    }
   ],
   "source": [
    "# pip install -U sentence-transformers"
   ]
  },
  {
   "cell_type": "code",
   "execution_count": 3,
   "id": "03ce4c86",
   "metadata": {},
   "outputs": [
    {
     "name": "stdout",
     "output_type": "stream",
     "text": [
      "Levenshtein 距離（kitten → sitting）：3\n",
      "Levenshtein 相似度：0.571\n",
      "Jaccard 相似度（k=1）：0.429\n",
      "Jaccard 相似度（k=2）：0.222\n"
     ]
    }
   ],
   "source": [
    "# -*- coding: utf-8 -*-\n",
    "\n",
    "def levenshtein_distance(s1: str, s2: str) -> int:\n",
    "    \"\"\"\n",
    "    計算兩字串的 Levenshtein 距離（最小編輯步數）\n",
    "    \"\"\"\n",
    "    len1, len2 = len(s1), len(s2)\n",
    "    # 建立 (len1+1) x (len2+1) 的 DP 陣列\n",
    "    dp = [[0] * (len2 + 1) for _ in range(len1 + 1)]\n",
    "\n",
    "    # 初始化邊界：空字串到前綴的距離\n",
    "    for i in range(len1 + 1):\n",
    "        dp[i][0] = i\n",
    "    for j in range(len2 + 1):\n",
    "        dp[0][j] = j\n",
    "\n",
    "    # 動態規劃填表\n",
    "    for i in range(1, len1 + 1):\n",
    "        for j in range(1, len2 + 1):\n",
    "            cost = 0 if s1[i-1] == s2[j-1] else 1\n",
    "            dp[i][j] = min(\n",
    "                dp[i-1][j] + 1,      # 刪除\n",
    "                dp[i][j-1] + 1,      # 插入\n",
    "                dp[i-1][j-1] + cost  # 替換\n",
    "            )\n",
    "    return dp[len1][len2]\n",
    "\n",
    "\n",
    "def levenshtein_similarity(s1: str, s2: str) -> float:\n",
    "    \"\"\"\n",
    "    以 1 - (距離 / 最長長度) 計算相似度，範圍 [0,1]\n",
    "    \"\"\"\n",
    "    dist = levenshtein_distance(s1, s2)\n",
    "    max_len = max(len(s1), len(s2))\n",
    "    if max_len == 0:\n",
    "        return 1.0\n",
    "    return 1.0 - dist / max_len\n",
    "\n",
    "\n",
    "def jaccard_similarity(s1: str, s2: str, k: int = 1) -> float:\n",
    "    \"\"\"\n",
    "    計算兩字串的 Jaccard 相似度：\n",
    "    將字串轉成 k-gram（字元 n-gram）集合，再計算交集/聯集。\n",
    "    k=1 時即為字元層級，k>1 可用於考慮連續片段。\n",
    "    \"\"\"\n",
    "    # 產生 k-gram 集合\n",
    "    def ngrams(s: str):\n",
    "        return {s[i:i+k] for i in range(len(s) - k + 1)}\n",
    "\n",
    "    set1 = ngrams(s1)\n",
    "    set2 = ngrams(s2)\n",
    "\n",
    "    if not set1 and not set2:\n",
    "        return 1.0\n",
    "\n",
    "    inter = set1.intersection(set2)\n",
    "    union = set1.union(set2)\n",
    "    return len(inter) / len(union)\n",
    "\n",
    "\n",
    "if __name__ == \"__main__\":\n",
    "    a = \"kitten\"\n",
    "    b = \"sitting\"\n",
    "\n",
    "    # Levenshtein 範例\n",
    "    dist = levenshtein_distance(a, b)\n",
    "    sim = levenshtein_similarity(a, b)\n",
    "    print(f\"Levenshtein 距離（{a} → {b}）：{dist}\")\n",
    "    print(f\"Levenshtein 相似度：{sim:.3f}\")\n",
    "\n",
    "    # Jaccard 範例（字元層級 k=1）\n",
    "    jsim1 = jaccard_similarity(a, b, k=1)\n",
    "    print(f\"Jaccard 相似度（k=1）：{jsim1:.3f}\")\n",
    "\n",
    "    # Jaccard 範例（2-gram）\n",
    "    jsim2 = jaccard_similarity(a, b, k=2)\n",
    "    print(f\"Jaccard 相似度（k=2）：{jsim2:.3f}\")\n"
   ]
  },
  {
   "cell_type": "code",
   "execution_count": null,
   "id": "0e17e332",
   "metadata": {},
   "outputs": [],
   "source": []
  }
 ],
 "metadata": {
  "kernelspec": {
   "display_name": "Python 3",
   "language": "python",
   "name": "python3"
  },
  "language_info": {
   "codemirror_mode": {
    "name": "ipython",
    "version": 3
   },
   "file_extension": ".py",
   "mimetype": "text/x-python",
   "name": "python",
   "nbconvert_exporter": "python",
   "pygments_lexer": "ipython3",
   "version": "3.11.9"
  }
 },
 "nbformat": 4,
 "nbformat_minor": 5
}
